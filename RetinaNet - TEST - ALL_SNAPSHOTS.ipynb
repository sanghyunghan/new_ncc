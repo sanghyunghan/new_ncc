{
 "cells": [
  {
   "cell_type": "code",
   "execution_count": 1,
   "metadata": {},
   "outputs": [],
   "source": [
    "DATE = \"0620_stronger_aug\"\n",
    "DATA_TO_TEST = 'abn' # 'abn' or 'normal'\n",
    "ONE_OR_ALL = 'all'\n",
    "# MODEL_EPOCH = '_47ep' ###### 아래 스냅샷 파일과 일치하는지 반드시 확인!!!!!!! ######\n",
    "\n",
    "SCORE_VALUE = 0.1\n",
    "PRINT_BENIGN_DETECTION = False\n",
    "SAVE_DETECTION_IMAGE = False\n",
    "\n",
    "import os\n",
    "import pandas as pd\n",
    "\n",
    "result_save_base_path = '/home/huray/workspace/ncc/results/'\n",
    "result_save_path_date = os.path.join(result_save_base_path, DATE)\n",
    "# result_save_path_final = os.path.join(result_save_base_path, DATE, DATA_TO_TEST + MODEL_EPOCH + '_' + str(SCORE_VALUE))\n",
    "if not os.path.exists(result_save_path_date):\n",
    "    os.makedirs(result_save_path_date)"
   ]
  },
  {
   "cell_type": "code",
   "execution_count": 2,
   "metadata": {},
   "outputs": [
    {
     "name": "stderr",
     "output_type": "stream",
     "text": [
      "/home/huray/venvs/ml/lib/python3.5/site-packages/h5py/__init__.py:36: FutureWarning: Conversion of the second argument of issubdtype from `float` to `np.floating` is deprecated. In future, it will be treated as `np.float64 == np.dtype(float).type`.\n",
      "  from ._conv import register_converters as _register_converters\n",
      "Using TensorFlow backend.\n"
     ]
    }
   ],
   "source": [
    "# %matplotlib inline\n",
    "# %load_ext autoreload\n",
    "# %autoreload 2\n",
    "\n",
    "import keras\n",
    "import keras.preprocessing.image\n",
    "from keras_retinanet.models.resnet import custom_objects\n",
    "# from keras_retinanet.preprocessing.coco import CocoGenerator\n",
    "from keras_retinanet.preprocessing.csv_generator import CSVGenerator\n",
    "\n",
    "import matplotlib.pyplot as plt\n",
    "import cv2\n",
    "\n",
    "import numpy as np\n",
    "import time\n",
    "\n",
    "import tensorflow as tf\n",
    "\n",
    "def get_session():\n",
    "    config = tf.ConfigProto()\n",
    "    config.gpu_options.allow_growth = True\n",
    "    return tf.Session(config=config)\n",
    "\n",
    "# os.environ[\"CUDA_VISIBLE_DEVICES\"] = \"0\"\n",
    "keras.backend.tensorflow_backend.set_session(get_session())"
   ]
  },
  {
   "cell_type": "markdown",
   "metadata": {},
   "source": [
    "## Initialize data generators"
   ]
  },
  {
   "cell_type": "code",
   "execution_count": 3,
   "metadata": {},
   "outputs": [],
   "source": [
    "# create image data generator object\n",
    "val_image_data_generator = keras.preprocessing.image.ImageDataGenerator()\n",
    "\n",
    "if DATA_TO_TEST == 'abn':\n",
    "    csv_path = '/home/huray/data/NCC/img_retinanet/data_abn_merged.csv'\n",
    "elif DATA_TO_TEST == 'normal':\n",
    "    csv_path = '/home/huray/data/NCC/img_retinanet/data_normal.csv'\n",
    "else:\n",
    "    print('WRONG DATA CSV PATH!')\n",
    "    raise\n",
    "\n",
    "# create a generator for testing data\n",
    "val_generator = CSVGenerator(\n",
    "    csv_path,\n",
    "    '/home/huray/data/NCC/img_retinanet/class_2_onlyM.csv',\n",
    "    val_image_data_generator,\n",
    "    batch_size=1\n",
    ")\n",
    "\n",
    "test_file_df = pd.read_csv(csv_path, header=None)\n",
    "num_of_test_files = len(test_file_df)\n",
    "# print(num_of_test_files)"
   ]
  },
  {
   "cell_type": "code",
   "execution_count": 4,
   "metadata": {},
   "outputs": [
    {
     "name": "stderr",
     "output_type": "stream",
     "text": [
      "/home/huray/venvs/ml/lib/python3.5/site-packages/keras/models.py:274: UserWarning: Output \"nms\" missing from loss dictionary. We assume this was done on purpose, and we will not be expecting any data to be passed to \"nms\" during training.\n",
      "  sample_weight_mode=sample_weight_mode)\n"
     ]
    },
    {
     "name": "stdout",
     "output_type": "stream",
     "text": [
      "epoch:resnet101_csv_83.h5, acc:82.57261410788382, correct_detection:199, num of anno:241, cases with no detection:8\n",
      "\n",
      "epoch:resnet101_csv_84.h5, acc:80.91286307053942, correct_detection:195, num of anno:241, cases with no detection:6\n",
      "\n",
      "epoch:resnet101_csv_85.h5, acc:81.32780082987551, correct_detection:196, num of anno:241, cases with no detection:7\n",
      "\n",
      "epoch:resnet101_csv_86.h5, acc:83.40248962655602, correct_detection:201, num of anno:241, cases with no detection:5\n",
      "\n",
      "epoch:resnet101_csv_87.h5, acc:78.83817427385893, correct_detection:190, num of anno:241, cases with no detection:10\n",
      "\n",
      "epoch:resnet101_csv_88.h5, acc:83.40248962655602, correct_detection:201, num of anno:241, cases with no detection:5\n",
      "\n",
      "epoch:resnet101_csv_89.h5, acc:80.91286307053942, correct_detection:195, num of anno:241, cases with no detection:8\n",
      "\n"
     ]
    }
   ],
   "source": [
    "import tester\n",
    "\n",
    "# snapshot_directory = '/home/huray/workspace/ncc/snapshots/' + DATE\n",
    "snapshot_directory = '/home/huray/workspace/ncc/snapshots/fortest/'\n",
    "\n",
    "tester.test_all_snapshots(DATA_TO_TEST, val_generator, snapshot_directory, test_file_df, SCORE_VALUE)"
   ]
  },
  {
   "cell_type": "code",
   "execution_count": 5,
   "metadata": {},
   "outputs": [
    {
     "name": "stdout",
     "output_type": "stream",
     "text": [
      "DONE!abn\n"
     ]
    }
   ],
   "source": [
    "print(\"DONE!\" + DATA_TO_TEST)"
   ]
  },
  {
   "cell_type": "code",
   "execution_count": null,
   "metadata": {},
   "outputs": [],
   "source": []
  }
 ],
 "metadata": {
  "kernelspec": {
   "display_name": "Python 3",
   "language": "python",
   "name": "python3"
  },
  "language_info": {
   "codemirror_mode": {
    "name": "ipython",
    "version": 3
   },
   "file_extension": ".py",
   "mimetype": "text/x-python",
   "name": "python",
   "nbconvert_exporter": "python",
   "pygments_lexer": "ipython3",
   "version": "3.5.2"
  }
 },
 "nbformat": 4,
 "nbformat_minor": 2
}
