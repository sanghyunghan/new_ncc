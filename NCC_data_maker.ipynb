{
 "cells": [
  {
   "cell_type": "code",
   "execution_count": 5,
   "metadata": {},
   "outputs": [],
   "source": [
    "import pandas as pd\n",
    "import cv2\n",
    "import os\n",
    "from glob import glob\n",
    "import pydicom as dicom\n",
    "import numpy as np\n",
    "from matplotlib import pyplot as plt\n",
    "\n",
    "%matplotlib inline"
   ]
  },
  {
   "cell_type": "code",
   "execution_count": 6,
   "metadata": {},
   "outputs": [],
   "source": [
    "ncc_base_path = \"/home/huray/data/NCC\"\n",
    "dicom_base_path = os.path.join(ncc_base_path, \"dicom\")\n",
    "\n",
    "img_save_path = dicom_base_path.replace('dicom', 'img_retinanet')\n",
    "\n",
    "WIDTH = 1400\n",
    "HEIGHT = 1750"
   ]
  },
  {
   "cell_type": "code",
   "execution_count": 7,
   "metadata": {},
   "outputs": [
    {
     "name": "stdout",
     "output_type": "stream",
     "text": [
      "['/home/huray/data/NCC/dicom/abn_1/_ACD_/00000/0001.dcm', '/home/huray/data/NCC/dicom/abn_1/_ACD_/00000/0002.dcm', '/home/huray/data/NCC/dicom/abn_1/_ACD_/00000/0003.dcm', '/home/huray/data/NCC/dicom/abn_1/_ACD_/00000/0004.dcm', '/home/huray/data/NCC/dicom/abn_1/_ACD_/00001/0001.dcm']\n"
     ]
    }
   ],
   "source": [
    "import shutil\n",
    "import os\n",
    "\n",
    "files = sorted(glob(\"/home/huray/data/NCC/dicom/**/*.dcm\", recursive=True))\n",
    "print(files[:5])"
   ]
  },
  {
   "cell_type": "code",
   "execution_count": 8,
   "metadata": {
    "scrolled": false
   },
   "outputs": [
    {
     "name": "stdout",
     "output_type": "stream",
     "text": [
      "DCM file is too small /home/huray/data/NCC/dicom/normal/normal/00027/30001.dcm\n",
      "DCM file is too small /home/huray/data/NCC/dicom/normal/normal/00027/30002.dcm\n",
      "DCM file is too small /home/huray/data/NCC/dicom/normal/normal/00027/30003.dcm\n",
      "DCM file is too small /home/huray/data/NCC/dicom/normal/normal/00027/30004.dcm\n",
      "DCM file is too small /home/huray/data/NCC/dicom/normal/normal/00033/20001.dcm\n",
      "DCM file is too small /home/huray/data/NCC/dicom/normal/normal/00033/20002.dcm\n",
      "DCM file is too small /home/huray/data/NCC/dicom/normal/normal/00033/20003.dcm\n",
      "DCM file is too small /home/huray/data/NCC/dicom/normal/normal/00033/20004.dcm\n",
      "DCM file is too small /home/huray/data/NCC/dicom/normal/normal/00059/10001.dcm\n",
      "DCM file is too small /home/huray/data/NCC/dicom/normal/normal/00059/10002.dcm\n",
      "DCM file is too small /home/huray/data/NCC/dicom/normal/normal/00059/10003.dcm\n",
      "DCM file is too small /home/huray/data/NCC/dicom/normal/normal/00059/10004.dcm\n",
      "DCM file is too small /home/huray/data/NCC/dicom/normal/normal/00065/20001.dcm\n",
      "DCM file is too small /home/huray/data/NCC/dicom/normal/normal/00065/20002.dcm\n",
      "DCM file is too small /home/huray/data/NCC/dicom/normal/normal/00065/20003.dcm\n",
      "DCM file is too small /home/huray/data/NCC/dicom/normal/normal/00065/20004.dcm\n"
     ]
    }
   ],
   "source": [
    "abn1_img_path = []\n",
    "abn1_x1 = []\n",
    "abn1_y1 = []\n",
    "abn1_x2 = []\n",
    "abn1_y2 = []\n",
    "abn1_class_name = []\n",
    "\n",
    "abn2_img_path = []\n",
    "abn2_x1 = []\n",
    "abn2_y1 = []\n",
    "abn2_x2 = []\n",
    "abn2_y2 = []\n",
    "abn2_class_name = []\n",
    "\n",
    "normal_img_path = []\n",
    "normal_x1 = []\n",
    "normal_y1 = []\n",
    "normal_x2 = []\n",
    "normal_y2 = []\n",
    "normal_class_name = []\n",
    "\n",
    "errored_data_counter = 0\n",
    "files_with_wrong_size = []\n",
    "\n",
    "for mammo_path in files:        \n",
    "    mammo_dcm = dicom.read_file(mammo_path)\n",
    "    \n",
    "    if os.path.getsize(mammo_path)/(1024*1024) <= 1: # dcm파일이 1메가보다 작으면 pass\n",
    "        files_with_wrong_size.append(mammo_path)\n",
    "        print('DCM file is too small ' + mammo_path)\n",
    "        continue\n",
    "    \n",
    "    try:\n",
    "        mammo_arr = mammo_dcm.pixel_array\n",
    "        mammo_arr = mammo_arr.astype(np.uint16)\n",
    "    except AttributeError: # 종종 파일 자체가 문제가 있는 경우 있음.\n",
    "        try:\n",
    "            pixel_data = mammo_dcm[0x7fe0,0x0010].value # 파일 자체에 저장된 pixel_data값\n",
    "            rows = mammo_dcm[0x0028, 0x0010].value # metadata로 들어있는 row\n",
    "            cols = mammo_dcm[0x0028, 0x0011].value # metadata로 들어있는col\n",
    "\n",
    "            mammo_arr = np.fromstring(pixel_data[:-1], dtype=np.uint16)\n",
    "            mammo_arr = np.reshape(mammo_arr, (rows, cols))\n",
    "        except ValueError:\n",
    "            print('corrupted file: ' + mammo_path[:70])\n",
    "            errored_data_counter += 1\n",
    "            continue\n",
    "        else:\n",
    "            print('Attribute error\" ' + mammo_path[:70])\n",
    "    except Exception as e:\n",
    "        print('different error: ' + mammo_path[:70])\n",
    "        print(e)\n",
    "        errored_data_counter += 1\n",
    "        raise\n",
    "        continue\n",
    "        \n",
    "    mammo_arr_final = (mammo_arr - np.amin(mammo_arr))/(np.amax(mammo_arr) - np.amin(mammo_arr)) * 255\n",
    "    mammo_arr_final = mammo_arr_final.astype(np.uint8)\n",
    "    mammo_arr_final = cv2.resize(mammo_arr_final, (WIDTH, HEIGHT))\n",
    "    mammo_arr_final = np.asarray(np.dstack((mammo_arr_final, mammo_arr_final, mammo_arr_final)), dtype=np.uint8)\n",
    "    \n",
    "    \n",
    "    mask_path = mammo_path.replace('.dcm', '.jpg')\n",
    "    mask_arr = cv2.imread(mask_path)\n",
    "    if 'normal' in mammo_path:\n",
    "        mask_arr = np.zeros([WIDTH, HEIGHT, 3])\n",
    "    else:\n",
    "        try:\n",
    "            mask_arr = cv2.resize(mask_arr, (WIDTH, HEIGHT))\n",
    "        except Exception as e:\n",
    "            print(\"no image size for mask! \" + mask_path)\n",
    "            continue\n",
    "    \n",
    "    lower=np.array([0,0,81],np.uint8)\n",
    "    upper=np.array([80,80,255],np.uint8)\n",
    "    mask = cv2.inRange(mask_arr,lower,upper)\n",
    "    \n",
    "#     plt.figure(figsize=(20, 20))\n",
    "#     plt.imshow(mask)\n",
    "#     plt.title('image')\n",
    "#     plt.show() \n",
    "    \n",
    "    ret, thresh = cv2.threshold(mask, 127, 255, cv2.THRESH_BINARY)\n",
    "    _image, contours, hierarchy = cv2.findContours(thresh, cv2.RETR_EXTERNAL, cv2.CHAIN_APPROX_NONE)\n",
    "    annotation_counter = 0\n",
    "    \n",
    "    # 이미지 하나에 annotation 여러개 있는 경우 있으므로 리스트로 저장해 둠.\n",
    "    x1_tmp = []\n",
    "    y1_tmp = []\n",
    "    x2_tmp = []\n",
    "    y2_tmp = []\n",
    "    cls_tmp = []\n",
    "\n",
    "    if len(contours) >= 1:\n",
    "        for index, c in enumerate(contours):\n",
    "            x, y, w, h = cv2.boundingRect(c)\n",
    "            \n",
    "            if w*h < 100:\n",
    "                continue\n",
    "                \n",
    "            x1_tmp.append(x)\n",
    "            y1_tmp.append(y)\n",
    "            x2_tmp.append(x+w)\n",
    "            y2_tmp.append(y+h)\n",
    "            cls_tmp.append('M')\n",
    "            \n",
    "            annotation_counter += 1\n",
    "\n",
    "#             cv2.rectangle(mammo_arr_final, (x, y), (x+w, y+h), (0,255,255), 5)\n",
    "\n",
    "#         x,y,w,h = cv2.boundingRect(cnt) # 좌상단 꼭지점과 거기서부터의 가로길이 w, 세로길이 h가 return 됨\n",
    "\n",
    "\n",
    "        # 제대로 bounding box 만들고있는지 체크하기 위한 코드\n",
    "#         plt.figure(figsize=(10, 10))\n",
    "#         plt.imshow(mammo_arr_final)\n",
    "#         plt.title('image')\n",
    "#         plt.show()\n",
    "#         raise\n",
    "        \n",
    "    elif len(contours) == 0:\n",
    "        annotation_counter += 1 #annotation은 없지만 한번은 저장해야 하므로 1로 만들어 줌.\n",
    "        x1_tmp.append('')\n",
    "        y1_tmp.append('')\n",
    "        x2_tmp.append('')\n",
    "        y2_tmp.append('')\n",
    "        cls_tmp.append('')\n",
    "        \n",
    "    \n",
    "    if 'abn_1' in mammo_path:\n",
    "        data_sub_path = 'abn_1'\n",
    "    elif 'abn_2' in mammo_path:\n",
    "        data_sub_path = 'abn_2'\n",
    "    elif 'normal' in mammo_path:\n",
    "        data_sub_path = 'normal'\n",
    "    else:\n",
    "        raise\n",
    "        \n",
    "    _split = mammo_path.split('/')\n",
    "    img_file_name = '{}-{}-{}'.format(_split[-3], _split[-2], _split[-1].replace('.dcm', ''))\n",
    "    \n",
    "    for i in range(annotation_counter):\n",
    "        mammo_jpg_path = os.path.join(img_save_path, data_sub_path, img_file_name+'_'+str(i)+'.jpg')\n",
    "        cv2.imwrite(mammo_jpg_path, mammo_arr_final)\n",
    "        \n",
    "        if 'abn_1' in mammo_path:\n",
    "            abn1_img_path.append(mammo_jpg_path)\n",
    "            abn1_x1.append(x1_tmp[i])\n",
    "            abn1_y1.append(y1_tmp[i])\n",
    "            abn1_x2.append(x2_tmp[i])\n",
    "            abn1_y2.append(y2_tmp[i])\n",
    "            abn1_class_name.append(cls_tmp[i])\n",
    "        elif 'abn_2' in mammo_path:\n",
    "            abn2_img_path.append(mammo_jpg_path)\n",
    "            abn2_x1.append(x1_tmp[i])\n",
    "            abn2_y1.append(y1_tmp[i])\n",
    "            abn2_x2.append(x2_tmp[i])\n",
    "            abn2_y2.append(y2_tmp[i])\n",
    "            abn2_class_name.append(cls_tmp[i])\n",
    "        elif 'normal' in mammo_path:\n",
    "            normal_img_path.append(mammo_jpg_path)\n",
    "            normal_x1.append(x1_tmp[i])\n",
    "            normal_y1.append(y1_tmp[i])\n",
    "            normal_x2.append(x2_tmp[i])\n",
    "            normal_y2.append(y2_tmp[i])\n",
    "            normal_class_name.append(cls_tmp[i])\n",
    "        else:\n",
    "            raise"
   ]
  },
  {
   "cell_type": "code",
   "execution_count": 9,
   "metadata": {},
   "outputs": [
    {
     "name": "stdout",
     "output_type": "stream",
     "text": [
      "ERRORED DATA COUNT:  0\n",
      "FILES WITH WRONG SIZE COUNT:  16\n",
      "FILES WITH WRONG SIZE:  ['/home/huray/data/NCC/dicom/normal/normal/00027/30001.dcm', '/home/huray/data/NCC/dicom/normal/normal/00027/30002.dcm', '/home/huray/data/NCC/dicom/normal/normal/00027/30003.dcm', '/home/huray/data/NCC/dicom/normal/normal/00027/30004.dcm', '/home/huray/data/NCC/dicom/normal/normal/00033/20001.dcm', '/home/huray/data/NCC/dicom/normal/normal/00033/20002.dcm', '/home/huray/data/NCC/dicom/normal/normal/00033/20003.dcm', '/home/huray/data/NCC/dicom/normal/normal/00033/20004.dcm', '/home/huray/data/NCC/dicom/normal/normal/00059/10001.dcm', '/home/huray/data/NCC/dicom/normal/normal/00059/10002.dcm', '/home/huray/data/NCC/dicom/normal/normal/00059/10003.dcm', '/home/huray/data/NCC/dicom/normal/normal/00059/10004.dcm', '/home/huray/data/NCC/dicom/normal/normal/00065/20001.dcm', '/home/huray/data/NCC/dicom/normal/normal/00065/20002.dcm', '/home/huray/data/NCC/dicom/normal/normal/00065/20003.dcm', '/home/huray/data/NCC/dicom/normal/normal/00065/20004.dcm']\n"
     ]
    }
   ],
   "source": [
    "print(\"ERRORED DATA COUNT: \", errored_data_counter)\n",
    "print(\"FILES WITH WRONG SIZE COUNT: \", len(files_with_wrong_size))\n",
    "print(\"FILES WITH WRONG SIZE: \", files_with_wrong_size)"
   ]
  },
  {
   "cell_type": "code",
   "execution_count": 10,
   "metadata": {
    "scrolled": true
   },
   "outputs": [
    {
     "name": "stdout",
     "output_type": "stream",
     "text": [
      "TOTAL DATA COUNTS:  816\n",
      "ABN1 DATA COUNTS:  238\n",
      "ABN2 DATA COUNTS:  225\n",
      "NORMAL DATA COUNTS:  353\n"
     ]
    }
   ],
   "source": [
    "abn1_data_df = pd.DataFrame({'img_path':abn1_img_path, 'x1':abn1_x1, 'y1':abn1_y1, 'x2':abn1_x2, 'y2':abn1_y2, 'class_name':abn1_class_name})\n",
    "abn1_data_df = abn1_data_df[['img_path', 'x1', 'y1', 'x2', 'y2', 'class_name']]\n",
    "\n",
    "abn2_data_df = pd.DataFrame({'img_path':abn2_img_path, 'x1':abn2_x1, 'y1':abn2_y1, 'x2':abn2_x2, 'y2':abn2_y2, 'class_name':abn2_class_name})\n",
    "abn2_data_df = abn2_data_df[['img_path', 'x1', 'y1', 'x2', 'y2', 'class_name']]\n",
    "\n",
    "normal_data_df = pd.DataFrame({'img_path':normal_img_path, 'x1':normal_x1, 'y1':normal_y1, 'x2':normal_x2, 'y2':normal_y2, 'class_name':normal_class_name})\n",
    "normal_data_df = normal_data_df[['img_path', 'x1', 'y1', 'x2', 'y2', 'class_name']]\n",
    "\n",
    "print('TOTAL DATA COUNTS: ', len(abn1_data_df) + len(abn2_data_df) + len(normal_data_df))\n",
    "print('ABN1 DATA COUNTS: ', len(abn1_data_df))\n",
    "print('ABN2 DATA COUNTS: ', len(abn2_data_df))\n",
    "print('NORMAL DATA COUNTS: ', len(normal_data_df))"
   ]
  },
  {
   "cell_type": "code",
   "execution_count": 11,
   "metadata": {},
   "outputs": [],
   "source": [
    "abn1_data_df.to_csv('/home/huray/data/NCC/img_retinanet/data_abn1.csv', header=False, index=False)\n",
    "abn2_data_df.to_csv('/home/huray/data/NCC/img_retinanet/data_abn2.csv', header=False, index=False)\n",
    "normal_data_df.to_csv('/home/huray/data/NCC/img_retinanet/data_normal.csv', header=False, index=False)"
   ]
  },
  {
   "cell_type": "code",
   "execution_count": null,
   "metadata": {},
   "outputs": [],
   "source": []
  }
 ],
 "metadata": {
  "kernelspec": {
   "display_name": "Python 3",
   "language": "python",
   "name": "python3"
  },
  "language_info": {
   "codemirror_mode": {
    "name": "ipython",
    "version": 3
   },
   "file_extension": ".py",
   "mimetype": "text/x-python",
   "name": "python",
   "nbconvert_exporter": "python",
   "pygments_lexer": "ipython3",
   "version": "3.5.2"
  }
 },
 "nbformat": 4,
 "nbformat_minor": 2
}
