{
 "cells": [
  {
   "cell_type": "code",
   "execution_count": 1,
   "metadata": {},
   "outputs": [],
   "source": [
    "DATE = \"0702_ensemble_2_normalNCC_0525-29_0326\"\n",
    "DATA_TO_TEST = 'normal_NCCtrain'\n",
    "\n",
    "SCORE_VALUE = 0.1\n",
    "\n",
    "import os\n",
    "import pandas as pd\n",
    "from glob import glob\n",
    "\n",
    "result_save_base_path = '/home/huray/workspace/ncc/results/'\n",
    "result_save_path = os.path.join(result_save_base_path, DATE, DATA_TO_TEST)\n",
    "if not os.path.exists(result_save_path):\n",
    "    os.makedirs(result_save_path)"
   ]
  },
  {
   "cell_type": "code",
   "execution_count": 2,
   "metadata": {},
   "outputs": [
    {
     "name": "stderr",
     "output_type": "stream",
     "text": [
      "/home/huray/venvs/ml/lib/python3.5/site-packages/h5py/__init__.py:36: FutureWarning: Conversion of the second argument of issubdtype from `float` to `np.floating` is deprecated. In future, it will be treated as `np.float64 == np.dtype(float).type`.\n",
      "  from ._conv import register_converters as _register_converters\n",
      "Using TensorFlow backend.\n"
     ]
    }
   ],
   "source": [
    "import keras\n",
    "import keras.preprocessing.image\n",
    "from keras_retinanet.models.resnet import custom_objects\n",
    "# from keras_retinanet.preprocessing.coco import CocoGenerator\n",
    "from keras_retinanet.preprocessing.csv_generator import CSVGenerator\n",
    "\n",
    "import matplotlib.pyplot as plt\n",
    "import cv2\n",
    "\n",
    "import numpy as np\n",
    "import time\n",
    "\n",
    "import tensorflow as tf\n",
    "\n",
    "def get_session():\n",
    "    config = tf.ConfigProto()\n",
    "    config.gpu_options.allow_growth = True\n",
    "    return tf.Session(config=config)\n",
    "\n",
    "# os.environ[\"CUDA_VISIBLE_DEVICES\"] = \"0\"\n",
    "keras.backend.tensorflow_backend.set_session(get_session())"
   ]
  },
  {
   "cell_type": "markdown",
   "metadata": {},
   "source": [
    "## Load RetinaNet model"
   ]
  },
  {
   "cell_type": "code",
   "execution_count": 3,
   "metadata": {},
   "outputs": [],
   "source": [
    "model_list = []\n",
    "# model_list.append('snapshots/0305_add_aug_65+/resnet101_csv_10.h5')                     #3/5, 75ep\n",
    "model_list.append('snapshots/0326_more_aug/resnet101_csv_44.h5')                        #3/26, 44ep\n",
    "# model_list.append('snapshots/0228_all_malig_wo_nccnorm/resnet101_csv_55.h5')            #2/28, 55ep\n",
    "# model_list.append('snapshots/0122_ncc_abn/resnet101_csv_47.h5')                         #1/22, 47ep\n",
    "# model_list.append('snapshots/0322_add-inb-mass_aug-same-with-0305/resnet101_csv_72.h5') #3/22, 72ep\n",
    "\n",
    "model_list.append('snapshots/0525_add_ncc_mass_data_strong_aug/resnet101_csv_29.h5')   #5/25, 29ep\n",
    "# model_list.append('snapshots/0525_add_ncc_mass_data_strong_aug/resnet101_csv_58.h5') #5/25, 58ep\n",
    "# model_list.append('snapshots/0529_medium_aug_balanced/resnet101_csv_43.h5')          #5/29, 43ep\n",
    "# model_list.append('snapshots/0604_medium_aug_oneway/resnet101_csv_43.h5')              #6/4, 43ep\n",
    "# model_list.append('snapshots/0604_medium_aug_oneway/resnet101_csv_46.h5')              #6/4, 46ep\n",
    "# model_list.append('snapshots/0607_low_aug/resnet101_csv_46.h5')                      #6/7, 46ep\n",
    "# model_list.append('snapshots/0620_stronger_aug/resnet101_csv_25.h5')              #6/20, 25ep"
   ]
  },
  {
   "cell_type": "markdown",
   "metadata": {},
   "source": [
    "## Initialize data generators"
   ]
  },
  {
   "cell_type": "code",
   "execution_count": 4,
   "metadata": {},
   "outputs": [
    {
     "name": "stdout",
     "output_type": "stream",
     "text": [
      "10\n"
     ]
    }
   ],
   "source": [
    "# create image data generator object\n",
    "val_image_data_generator = keras.preprocessing.image.ImageDataGenerator()\n",
    "\n",
    "if DATA_TO_TEST == 'normal_NCCtrain':\n",
    "    csv_path = '/home/huray/data/NCC_trainset/img_retinanet/data_ncc_normal_180130.csv'\n",
    "else:\n",
    "    print('WRONG DATA CSV PATH!')\n",
    "    raise\n",
    "\n",
    "# create a generator for testing data\n",
    "val_generator = CSVGenerator(\n",
    "    csv_path,\n",
    "    '/home/huray/data/NCC/img_retinanet/class_2_onlyM.csv',\n",
    "    val_image_data_generator,\n",
    "    batch_size=1,\n",
    "    is_testing=True,\n",
    ")\n",
    "\n",
    "test_file_df = pd.read_csv(csv_path, header=None)\n",
    "num_of_test_files = len(test_file_df)\n",
    "print(num_of_test_files)"
   ]
  },
  {
   "cell_type": "markdown",
   "metadata": {},
   "source": [
    "## Run detection"
   ]
  },
  {
   "cell_type": "code",
   "execution_count": 5,
   "metadata": {},
   "outputs": [],
   "source": [
    "image_with_no_detection = []\n",
    "num_of_anno = 0\n",
    "correct_detection = 0"
   ]
  },
  {
   "cell_type": "code",
   "execution_count": 6,
   "metadata": {},
   "outputs": [],
   "source": [
    "img_index_list = list(range(0, num_of_test_files))\n",
    "img_index_list_temp = img_index_list.copy()"
   ]
  },
  {
   "cell_type": "code",
   "execution_count": 7,
   "metadata": {
    "scrolled": true
   },
   "outputs": [
    {
     "name": "stdout",
     "output_type": "stream",
     "text": [
      "model:  snapshots/0326_more_aug/resnet101_csv_44.h5\n"
     ]
    },
    {
     "name": "stderr",
     "output_type": "stream",
     "text": [
      "/home/huray/venvs/ml/lib/python3.5/site-packages/keras/models.py:274: UserWarning: Output \"nms\" missing from loss dictionary. We assume this was done on purpose, and we will not be expecting any data to be passed to \"nms\" during training.\n",
      "  sample_weight_mode=sample_weight_mode)\n"
     ]
    },
    {
     "name": "stdout",
     "output_type": "stream",
     "text": [
      "remained images:  10\n",
      "model:  snapshots/0525_add_ncc_mass_data_strong_aug/resnet101_csv_29.h5\n",
      "remained images:  7\n"
     ]
    }
   ],
   "source": [
    "for model_path in model_list:\n",
    "    print('model: ', model_path)\n",
    "    model = keras.models.load_model(model_path, custom_objects=custom_objects)\n",
    "    \n",
    "    img_index_list = img_index_list_temp.copy()\n",
    "    print('remained images: ', len(img_index_list))\n",
    "    \n",
    "    saved_img_list = glob(os.path.join(result_save_path, '*.jpg'))\n",
    "    \n",
    "    for index in img_index_list:\n",
    "        pass_this_file = False\n",
    "\n",
    "        # load image\n",
    "        image, image_path = val_generator.load_image(index, get_image_path=True)\n",
    "#         print(image_path)\n",
    "\n",
    "        # copy to draw on\n",
    "        draw = image.copy()\n",
    "        \n",
    "        # if already there is a saved img, load it to overwrite the detections\n",
    "        for saved_img in saved_img_list:\n",
    "            if image_path.split('/')[-1].replace('.jpg','') in saved_img:\n",
    "                draw = cv2.imread(saved_img)\n",
    "        \n",
    "        draw = cv2.cvtColor(draw, cv2.COLOR_BGR2RGB)\n",
    "\n",
    "        # preprocess image for network\n",
    "        image = val_generator.preprocess_image(image)\n",
    "        image, scale = val_generator.resize_image(image)\n",
    "        annotations = val_generator.load_annotations(index)\n",
    "\n",
    "        # process image\n",
    "    #     start = time.time()\n",
    "        _, _, detections = model.predict_on_batch(np.expand_dims(image, axis=0))\n",
    "    #     print(\"processing time: \", time.time() - start)\n",
    "\n",
    "        # compute predicted labels and scores\n",
    "        predicted_labels = np.argmax(detections[0, :, 4:], axis=1)\n",
    "        scores = detections[0, np.arange(detections.shape[1]), 4 + predicted_labels]\n",
    "\n",
    "        # correct for image scale\n",
    "        detections[0, :, :4] /= scale\n",
    "\n",
    "        anno_center = []\n",
    "\n",
    "        \n",
    "        # visualize annotations\n",
    "        for annotation in annotations:\n",
    "\n",
    "            label = int(annotation[4])\n",
    "            b = annotation[:4].astype(int)\n",
    "\n",
    "            anno_center.append((b[0]+b[2])/2)\n",
    "            anno_center.append((b[1]+b[3])/2)\n",
    "\n",
    "            cv2.rectangle(draw, (b[0], b[1]), (b[2], b[3]), (50, 50, 255), 2)\n",
    "            caption = \"{}\".format(val_generator.label_to_name(label))\n",
    "            cv2.putText(draw, caption, (b[0], b[1] - 10), cv2.FONT_HERSHEY_PLAIN, 3, (0, 0, 0), 5)\n",
    "            cv2.putText(draw, caption, (b[0], b[1] - 10), cv2.FONT_HERSHEY_PLAIN, 3, (255, 255, 255), 4)\n",
    "\n",
    "\n",
    "        # visualize detections\n",
    "        for idx, (label, score) in enumerate(zip(predicted_labels, scores)):\n",
    "            if score < SCORE_VALUE:\n",
    "                continue\n",
    "        \n",
    "            if label != 0: # ensemble uses older model which is trained with benign class.\n",
    "                continue\n",
    "                \n",
    "            if pass_this_file == True:\n",
    "                continue\n",
    "\n",
    "            b = detections[0, idx, :4].astype(int)\n",
    "            \n",
    "            caption = \"{} {:.3f}\".format(val_generator.label_to_name(label), score)\n",
    "            \n",
    "            cv2.putText(draw, caption, (b[0], b[1] - 10), cv2.FONT_HERSHEY_PLAIN, 3, (0, 0, 0), 5)\n",
    "            cv2.putText(draw, caption, (b[0], b[1] - 10), cv2.FONT_HERSHEY_PLAIN, 3, (255, 255, 255), 4)\n",
    "            cv2.rectangle(draw, (b[0], b[1]), (b[2], b[3]), (0, 255, 0), 5)\n",
    "\n",
    "            if pass_this_file is False:\n",
    "                pass_this_file = True\n",
    "    \n",
    "                # remove the detected image from the list\n",
    "                img_index_list_temp.remove(index)\n",
    "\n",
    "        # save the image into file\n",
    "        cv2.imwrite(os.path.join(result_save_path, image_path.split('/')[-1].split('.')[0]+'_'+str(index)+'.jpg'), draw)\n",
    "    \n",
    "    # release the memory\n",
    "    del(model)\n",
    "    keras.backend.clear_session()"
   ]
  },
  {
   "cell_type": "code",
   "execution_count": 8,
   "metadata": {},
   "outputs": [
    {
     "name": "stdout",
     "output_type": "stream",
     "text": [
      "\n",
      "FAILED TO DETECT:\n"
     ]
    }
   ],
   "source": [
    "# check remained images\n",
    "img_index_list = img_index_list_temp.copy()"
   ]
  },
  {
   "cell_type": "code",
   "execution_count": 9,
   "metadata": {},
   "outputs": [
    {
     "name": "stdout",
     "output_type": "stream",
     "text": [
      "DONE!normal_NCCtrain\n"
     ]
    }
   ],
   "source": [
    "print(\"DONE!\" + DATA_TO_TEST)"
   ]
  },
  {
   "cell_type": "code",
   "execution_count": 10,
   "metadata": {},
   "outputs": [
    {
     "name": "stdout",
     "output_type": "stream",
     "text": [
      "TOTAL IMAGES:  10\n",
      "IMAGEs WITH NO DETECTION:  5\n",
      "NORMAL RATIO:  0.5\n"
     ]
    }
   ],
   "source": [
    "print(\"TOTAL IMAGES: \", num_of_test_files)\n",
    "print(\"IMAGEs WITH NO DETECTION: \", len(img_index_list))\n",
    "print(\"NORMAL RATIO: \", len(img_index_list)/num_of_test_files)"
   ]
  },
  {
   "cell_type": "code",
   "execution_count": null,
   "metadata": {},
   "outputs": [],
   "source": []
  }
 ],
 "metadata": {
  "kernelspec": {
   "display_name": "Python 3",
   "language": "python",
   "name": "python3"
  },
  "language_info": {
   "codemirror_mode": {
    "name": "ipython",
    "version": 3
   },
   "file_extension": ".py",
   "mimetype": "text/x-python",
   "name": "python",
   "nbconvert_exporter": "python",
   "pygments_lexer": "ipython3",
   "version": "3.5.2"
  }
 },
 "nbformat": 4,
 "nbformat_minor": 2
}
