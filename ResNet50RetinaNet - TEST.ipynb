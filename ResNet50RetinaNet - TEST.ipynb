{
 "cells": [
  {
   "cell_type": "code",
   "execution_count": 1,
   "metadata": {},
   "outputs": [
    {
     "name": "stderr",
     "output_type": "stream",
     "text": [
      "Using TensorFlow backend.\n"
     ]
    }
   ],
   "source": [
    "%matplotlib inline\n",
    "%load_ext autoreload\n",
    "%autoreload 2\n",
    "\n",
    "import keras\n",
    "import keras.preprocessing.image\n",
    "from keras_retinanet.models.resnet import custom_objects\n",
    "# from keras_retinanet.preprocessing.coco import CocoGenerator\n",
    "from keras_retinanet.preprocessing.csv_generator import CSVGenerator\n",
    "\n",
    "import matplotlib.pyplot as plt\n",
    "import cv2\n",
    "import os\n",
    "import numpy as np\n",
    "import time\n",
    "\n",
    "import tensorflow as tf\n",
    "\n",
    "def get_session():\n",
    "    config = tf.ConfigProto()\n",
    "    config.gpu_options.allow_growth = True\n",
    "    return tf.Session(config=config)\n",
    "\n",
    "# os.environ[\"CUDA_VISIBLE_DEVICES\"] = \"0\"\n",
    "keras.backend.tensorflow_backend.set_session(get_session())"
   ]
  },
  {
   "cell_type": "markdown",
   "metadata": {},
   "source": [
    "## Load RetinaNet model"
   ]
  },
  {
   "cell_type": "code",
   "execution_count": 12,
   "metadata": {
    "scrolled": false
   },
   "outputs": [
    {
     "name": "stderr",
     "output_type": "stream",
     "text": [
      "/home/huray/venvs/ml/lib/python3.5/site-packages/keras/models.py:252: UserWarning: No training configuration found in save file: the model was *not* compiled. Compile it manually.\n",
      "  warnings.warn('No training configuration found in save file: '\n"
     ]
    }
   ],
   "source": [
    "model = keras.models.load_model('snapshots/resnet50_csv_06.h5', custom_objects=custom_objects)\n",
    "#print(model.summary())"
   ]
  },
  {
   "cell_type": "markdown",
   "metadata": {},
   "source": [
    "## Initialize data generators"
   ]
  },
  {
   "cell_type": "code",
   "execution_count": 16,
   "metadata": {},
   "outputs": [
    {
     "name": "stdout",
     "output_type": "stream",
     "text": [
      "606\n"
     ]
    }
   ],
   "source": [
    "# create image data generator object\n",
    "val_image_data_generator = keras.preprocessing.image.ImageDataGenerator()\n",
    "\n",
    "# # create a generator for testing data\n",
    "# val_generator = CocoGenerator(\n",
    "#     '/srv/datasets/COCO',\n",
    "#     'val2017',\n",
    "#     val_image_data_generator,\n",
    "#     batch_size=1,\n",
    "# )\n",
    "# create a generator for testing data\n",
    "val_generator = CSVGenerator(\n",
    "    '/home/huray/data/CBIS-DDSM/img/data_test.csv',\n",
    "    '/home/huray/data/CBIS-DDSM/img/class.csv',\n",
    "    val_image_data_generator,\n",
    "    batch_size=1\n",
    ")\n",
    "\n",
    "f = open('/home/huray/data/CBIS-DDSM/img/data_test.csv', 'r')\n",
    "num_of_test_files = len(f.readlines())\n",
    "print(num_of_test_files)\n",
    "f.close()"
   ]
  },
  {
   "cell_type": "markdown",
   "metadata": {},
   "source": [
    "## Run detection on example"
   ]
  },
  {
   "cell_type": "code",
   "execution_count": 18,
   "metadata": {
    "scrolled": false
   },
   "outputs": [],
   "source": [
    "for index in range(num_of_test_files):\n",
    "    flag = False\n",
    "    # load image\n",
    "    image = val_generator.load_image(index)\n",
    "\n",
    "    # copy to draw on\n",
    "    draw = image.copy()\n",
    "    draw = cv2.cvtColor(draw, cv2.COLOR_BGR2RGB)\n",
    "\n",
    "    # preprocess image for network\n",
    "    image = val_generator.preprocess_image(image)\n",
    "    image, scale = val_generator.resize_image(image)\n",
    "    annotations = val_generator.load_annotations(index)\n",
    "    index += 1\n",
    "\n",
    "    # process image\n",
    "    start = time.time()\n",
    "    _, _, detections = model.predict_on_batch(np.expand_dims(image, axis=0))\n",
    "#     print(\"processing time: \", time.time() - start)\n",
    "\n",
    "    # compute predicted labels and scores\n",
    "    predicted_labels = np.argmax(detections[0, :, 4:], axis=1)\n",
    "    scores = detections[0, np.arange(detections.shape[1]), 4 + predicted_labels]\n",
    "\n",
    "    # correct for image scale\n",
    "    detections[0, :, :4] /= scale\n",
    "    \n",
    "\n",
    "    # visualize detections\n",
    "    for idx, (label, score) in enumerate(zip(predicted_labels, scores)):\n",
    "#         if score > 0: print(score)\n",
    "#         if score < 0.5:\n",
    "#             continue\n",
    "#         else:\n",
    "#             flag = True\n",
    "        if score < 0.01:\n",
    "            continue\n",
    "        else:\n",
    "            print(score)\n",
    "            flag = True\n",
    "\n",
    "        b = detections[0, idx, :4].astype(int)\n",
    "        cv2.rectangle(draw, (b[0], b[1]), (b[2], b[3]), (0, 255, 0), 3)\n",
    "#         print(b)\n",
    "#         if b[0] > 0 and b[1] > 0 and b[2] < 1700 and b[3] < 2100:\n",
    "#             cv2.rectangle(draw, (b[0], b[1]), (b[2], b[3]), (0, 255, 0), 3)\n",
    "#             flag = True\n",
    "#         else:\n",
    "#             continue\n",
    "        caption = \"{} {:.3f}\".format(val_generator.label_to_name(label), score)\n",
    "        cv2.putText(draw, caption, (b[0], b[1] - 10), cv2.FONT_HERSHEY_PLAIN, 1.5, (0, 0, 0), 3)\n",
    "        cv2.putText(draw, caption, (b[0], b[1] - 10), cv2.FONT_HERSHEY_PLAIN, 1.5, (255, 255, 255), 2)\n",
    "\n",
    "    # visualize annotations\n",
    "    for annotation in annotations:\n",
    "        label = int(annotation[4])\n",
    "        b = annotation[:4].astype(int)\n",
    "        cv2.rectangle(draw, (b[0], b[1]), (b[2], b[3]), (0, 0, 255), 2)\n",
    "        caption = \"{}\".format(val_generator.label_to_name(label))\n",
    "        cv2.putText(draw, caption, (b[0], b[1] - 10), cv2.FONT_HERSHEY_PLAIN, 1.5, (0, 0, 0), 3)\n",
    "        cv2.putText(draw, caption, (b[0], b[1] - 10), cv2.FONT_HERSHEY_PLAIN, 1.5, (255, 255, 255), 2)\n",
    "\n",
    "    if flag is True:\n",
    "        plt.figure(figsize=(15, 15))\n",
    "        plt.axis('off')\n",
    "        plt.imshow(draw)\n",
    "        plt.show()\n",
    "        \n",
    "#     plt.figure(figsize=(15, 15))\n",
    "#     plt.axis('off')\n",
    "#     plt.imshow(draw)\n",
    "#     plt.show()"
   ]
  },
  {
   "cell_type": "code",
   "execution_count": null,
   "metadata": {},
   "outputs": [],
   "source": []
  },
  {
   "cell_type": "code",
   "execution_count": null,
   "metadata": {},
   "outputs": [],
   "source": []
  }
 ],
 "metadata": {
  "kernelspec": {
   "display_name": "Python 3",
   "language": "python",
   "name": "python3"
  },
  "language_info": {
   "codemirror_mode": {
    "name": "ipython",
    "version": 3
   },
   "file_extension": ".py",
   "mimetype": "text/x-python",
   "name": "python",
   "nbconvert_exporter": "python",
   "pygments_lexer": "ipython3",
   "version": "3.5.2"
  }
 },
 "nbformat": 4,
 "nbformat_minor": 2
}
