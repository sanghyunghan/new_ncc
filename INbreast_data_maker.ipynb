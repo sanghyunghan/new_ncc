{
 "cells": [
  {
   "cell_type": "markdown",
   "metadata": {},
   "source": [
    "## png파일명에서 어노테이션과dcm파일을 찾아낸 후 csv파일로 아래 형식대로 저장.\n",
    "-> path/to/image.jpg,x1,y1,x2,y2,class_name\n",
    "\n",
    "예:  \n",
    "/data/imgs/img_001.jpg,837,346,981,456,cow  \n",
    "/data/imgs/img_002.jpg,215,312,279,391,cat  \n",
    "/data/imgs/img_002.jpg,22,5,89,84,bird\n",
    "\n",
    "### 일단은 png로 뽑힌 mass만 사용. calc는 어노테이션 처리가 복잡하고 정확도도 충분하므로."
   ]
  },
  {
   "cell_type": "code",
   "execution_count": 1,
   "metadata": {},
   "outputs": [],
   "source": [
    "import pandas as pd\n",
    "import cv2\n",
    "import os\n",
    "from glob import glob\n",
    "import pydicom as dicom\n",
    "import numpy as np\n",
    "from matplotlib import pyplot as plt\n",
    "\n",
    "%matplotlib inline"
   ]
  },
  {
   "cell_type": "code",
   "execution_count": 2,
   "metadata": {},
   "outputs": [],
   "source": [
    "inb_base_path = \"/home/huray/data/inbreast/raw_files\"\n",
    "dicom_base_path = os.path.join(inb_base_path, \"AllDICOMs\")\n",
    "anno_base_path = os.path.join(inb_base_path, \"extras/mass\")\n",
    "\n",
    "img_save_path = \"/home/huray/data/inbreast/img\"\n",
    "\n",
    "WIDTH = 1400\n",
    "HEIGHT = 1750"
   ]
  },
  {
   "cell_type": "code",
   "execution_count": 3,
   "metadata": {},
   "outputs": [
    {
     "name": "stdout",
     "output_type": "stream",
     "text": [
      "['/home/huray/data/inbreast/raw_files/AllDICOMs/20586908_6c613a14b80a8591_MG_R_CC_ANON.dcm', '/home/huray/data/inbreast/raw_files/AllDICOMs/20586934_6c613a14b80a8591_MG_L_CC_ANON.dcm', '/home/huray/data/inbreast/raw_files/AllDICOMs/20586960_6c613a14b80a8591_MG_R_ML_ANON.dcm', '/home/huray/data/inbreast/raw_files/AllDICOMs/20586986_6c613a14b80a8591_MG_L_ML_ANON.dcm', '/home/huray/data/inbreast/raw_files/AllDICOMs/20587054_b6a4f750c6df4f90_MG_R_CC_ANON.dcm']\n",
      "['/home/huray/data/inbreast/raw_files/extras/mass/20586908_mask.png', '/home/huray/data/inbreast/raw_files/extras/mass/20586934_mask.png', '/home/huray/data/inbreast/raw_files/extras/mass/20586960_mask.png', '/home/huray/data/inbreast/raw_files/extras/mass/20586986_mask.png', '/home/huray/data/inbreast/raw_files/extras/mass/20587612_mask.png']\n"
     ]
    }
   ],
   "source": [
    "dcm_files = sorted(glob(\"{}/*.dcm\".format(dicom_base_path)))\n",
    "anno_files = sorted(glob(\"{}/*.png\".format(anno_base_path)))\n",
    "print(dcm_files[:5])\n",
    "print(anno_files[:5])"
   ]
  },
  {
   "cell_type": "code",
   "execution_count": 4,
   "metadata": {},
   "outputs": [
    {
     "name": "stdout",
     "output_type": "stream",
     "text": [
      "107\n",
      "['/home/huray/data/inbreast/raw_files/AllDICOMs/20586908_6c613a14b80a8591_MG_R_CC_ANON.dcm', '/home/huray/data/inbreast/raw_files/AllDICOMs/20586934_6c613a14b80a8591_MG_L_CC_ANON.dcm', '/home/huray/data/inbreast/raw_files/AllDICOMs/20586960_6c613a14b80a8591_MG_R_ML_ANON.dcm', '/home/huray/data/inbreast/raw_files/AllDICOMs/20586986_6c613a14b80a8591_MG_L_ML_ANON.dcm', '/home/huray/data/inbreast/raw_files/AllDICOMs/20587612_f4b2d377f43ba0bd_MG_R_CC_ANON.dcm']\n",
      "['/home/huray/data/inbreast/raw_files/extras/mass/20586908_mask.png', '/home/huray/data/inbreast/raw_files/extras/mass/20586934_mask.png', '/home/huray/data/inbreast/raw_files/extras/mass/20586960_mask.png', '/home/huray/data/inbreast/raw_files/extras/mass/20586986_mask.png', '/home/huray/data/inbreast/raw_files/extras/mass/20587612_mask.png']\n"
     ]
    }
   ],
   "source": [
    "dcms_with_anno = []\n",
    "matched_anno = []\n",
    "\n",
    "for anno in anno_files:\n",
    "    full_anno_name = anno.split('/')[-1]\n",
    "    anno_number = full_anno_name.split('_')[0]\n",
    "    \n",
    "    for dcm in dcm_files:\n",
    "        full_dcm_name = dcm.split('/')[-1]\n",
    "        dcm_number = full_dcm_name.split('_')[0]\n",
    "        \n",
    "        if anno_number in dcm_number:\n",
    "            dcms_with_anno.append(dcm)\n",
    "            matched_anno.append(anno)\n",
    "            \n",
    "            \n",
    "print(len(dcms_with_anno))\n",
    "print(dcms_with_anno[:5])\n",
    "print(matched_anno[:5])"
   ]
  },
  {
   "cell_type": "markdown",
   "metadata": {},
   "source": [
    "### anno 파일에서 바운딩박스 검출"
   ]
  },
  {
   "cell_type": "code",
   "execution_count": 5,
   "metadata": {
    "scrolled": false
   },
   "outputs": [
    {
     "name": "stdout",
     "output_type": "stream",
     "text": [
      "2 CONTOURS! CHECK THIS: /home/huray/data/inbreast/raw_files/extras/mass/20586908_mask.png\n",
      "2 CONTOURS! CHECK THIS: /home/huray/data/inbreast/raw_files/extras/mass/22427840_mask.png\n",
      "2 CONTOURS! CHECK THIS: /home/huray/data/inbreast/raw_files/extras/mass/22579730_mask.png\n",
      "2 CONTOURS! CHECK THIS: /home/huray/data/inbreast/raw_files/extras/mass/22613770_mask.png\n",
      "2 CONTOURS! CHECK THIS: /home/huray/data/inbreast/raw_files/extras/mass/51049107_mask.png\n"
     ]
    }
   ],
   "source": [
    "img_path = []\n",
    "x1 = []\n",
    "y1 = []\n",
    "x2 = []\n",
    "y2 = []\n",
    "class_name = []\n",
    "\n",
    "for anno_path, dcm_path in zip(matched_anno, dcms_with_anno):\n",
    "    dcm = dicom.read_file(dcm_path)\n",
    "    anno = cv2.imread(anno_path, cv2.IMREAD_GRAYSCALE)\n",
    "    \n",
    "    \n",
    "    \n",
    "    # mammo 이미지 처리\n",
    "    mammo_arr = dcm.pixel_array\n",
    "    mammo_arr = mammo_arr.astype(np.uint16)\n",
    "    \n",
    "    # rescale to 0~255\n",
    "    mammo_arr_final = (mammo_arr - np.amin(mammo_arr))/(np.amax(mammo_arr) - np.amin(mammo_arr)) * 255\n",
    "    mammo_arr_final = mammo_arr_final.astype(np.uint8)\n",
    "    mammo_arr_final = cv2.resize(mammo_arr_final, (WIDTH, HEIGHT))\n",
    "    mammo_arr_final = np.asarray(np.dstack((mammo_arr_final, mammo_arr_final, mammo_arr_final)), dtype=np.uint8)\n",
    "    \n",
    "    # mammo를 이미지로 저장\n",
    "    mammo_jpg_path = os.path.join(img_save_path, anno_path.split(\"/\")[-1].replace('.png','.jpg').replace('_mask', ''))\n",
    "    cv2.imwrite(mammo_jpg_path, mammo_arr_final)\n",
    "    \n",
    "    \n",
    "    \n",
    "    # anno 이미지 처리\n",
    "    mask_arr = cv2.resize(anno, (WIDTH, HEIGHT))\n",
    "    mask_arr[mask_arr >= 1] = 255\n",
    "\n",
    "    ret, thresh = cv2.threshold(mask_arr, 127, 255, cv2.THRESH_BINARY)\n",
    "    image, contours, hierarchy = cv2.findContours(thresh, cv2.RETR_EXTERNAL, cv2.CHAIN_APPROX_NONE)\n",
    "\n",
    "    if len(contours) != 1: # 혹시 annotation 인식이 잘못됐을 경우 대비 -> mass만 본 결과로는 문제는 없었음.\n",
    "        print(str(len(contours)) + \" CONTOURS! CHECK THIS: \" + anno_path)\n",
    "    \n",
    "    for cnt in contours:\n",
    "        x,y,w,h = cv2.boundingRect(cnt) # 좌상단 꼭지점과 거기서부터의 가로길이 w, 세로길이 h가 return 됨.\n",
    "        \n",
    "        # 리스트에 저장\n",
    "        img_path.append(mammo_jpg_path)\n",
    "        x1.append(x)\n",
    "        y1.append(y)\n",
    "        x2.append(x+w)\n",
    "        y2.append(y+h)\n",
    "        class_name.append('M')\n",
    "\n",
    "        # 제대로 bounding box 만들고있는지 체크하기 위한 코드\n",
    "#         print(x,y,w,h)\n",
    "#         mask_arr_color = cv2.cvtColor(mask_arr, cv2.COLOR_GRAY2BGR)\n",
    "#         cv2.rectangle(mask_arr_color, (x, y), (x+w, y+h), (255,0,255), 3)\n",
    "\n",
    "#         if len(contours) != 1:\n",
    "#             plt.figure(figsize=(10, 10))\n",
    "#             plt.imshow(mask_arr_color)\n",
    "#             plt.title('image')\n",
    "#             plt.show()"
   ]
  },
  {
   "cell_type": "code",
   "execution_count": 6,
   "metadata": {},
   "outputs": [
    {
     "name": "stdout",
     "output_type": "stream",
     "text": [
      "DATA COUNTS:  112\n"
     ]
    }
   ],
   "source": [
    "df = pd.DataFrame({'img_path':img_path, 'x1':x1, 'y1':y1, 'x2':x2, 'y2':y2, 'class_name':class_name})\n",
    "df = df[['img_path', 'x1', 'y1', 'x2', 'y2', 'class_name']]\n",
    "\n",
    "print('DATA COUNTS: ', len(df))"
   ]
  },
  {
   "cell_type": "code",
   "execution_count": 7,
   "metadata": {},
   "outputs": [],
   "source": [
    "df.to_csv('/home/huray/data/inbreast/data.csv', header=False, index=False)"
   ]
  }
 ],
 "metadata": {
  "kernelspec": {
   "display_name": "Python 3",
   "language": "python",
   "name": "python3"
  },
  "language_info": {
   "codemirror_mode": {
    "name": "ipython",
    "version": 3
   },
   "file_extension": ".py",
   "mimetype": "text/x-python",
   "name": "python",
   "nbconvert_exporter": "python",
   "pygments_lexer": "ipython3",
   "version": "3.5.2"
  }
 },
 "nbformat": 4,
 "nbformat_minor": 2
}
