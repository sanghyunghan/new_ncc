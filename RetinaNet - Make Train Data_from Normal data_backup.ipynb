{
 "cells": [
  {
   "cell_type": "code",
   "execution_count": null,
   "metadata": {},
   "outputs": [],
   "source": [
    "DATE = \"0823_stronger_aug\"\n",
    "DATA_TO_TEST = 'normal' # 'abn1' or 'abn2' or 'normal'\n",
    "MODEL_EPOCH = '_25ep' ###### 아래 스냅샷 파일과 일치하는지 반드시 확인!!!!!!! ######\n",
    "\n",
    "#SCORE_VALUE = 0.1\n",
    "#PRINT_BENIGN_DETECTION = False\n",
    "\n",
    "import os\n",
    "import pandas as pd\n",
    "\n",
    "result_save_base_path = '/home/huray/workspace/han_work/han_test/results/'\n",
    "result_save_path = os.path.join(result_save_base_path, DATE, DATA_TO_TEST + MODEL_EPOCH)\n",
    "if not os.path.exists(result_save_path):\n",
    "    os.makedirs(result_save_path)"
   ]
  },
  {
   "cell_type": "code",
   "execution_count": null,
   "metadata": {},
   "outputs": [],
   "source": [
    "%matplotlib inline\n",
    "%load_ext autoreload\n",
    "%autoreload 2\n",
    "\n",
    "import keras\n",
    "import keras.preprocessing.image\n",
    "from keras_retinanet.models.resnet import custom_objects\n",
    "# from keras_retinanet.preprocessing.coco import CocoGenerator\n",
    "from keras_retinanet.preprocessing.csv_generator import CSVGenerator\n",
    "\n",
    "import matplotlib.pyplot as plt\n",
    "import cv2\n",
    "\n",
    "import numpy as np\n",
    "import time\n",
    "\n",
    "import tensorflow as tf\n",
    "\n",
    "def get_session():\n",
    "    config = tf.ConfigProto()\n",
    "    config.gpu_options.allow_growth = True\n",
    "    return tf.Session(config=config)\n",
    "\n",
    "normal_img_path = []\n",
    "normal_x1 = []\n",
    "normal_y1 = []\n",
    "normal_x2 = []\n",
    "normal_y2 = []\n",
    "normal_class_name = []\n",
    "\n",
    "# os.environ[\"CUDA_VISIBLE_DEVICES\"] = \"0\"\n",
    "keras.backend.tensorflow_backend.set_session(get_session())"
   ]
  },
  {
   "cell_type": "markdown",
   "metadata": {},
   "source": [
    "## Load RetinaNet model"
   ]
  },
  {
   "cell_type": "code",
   "execution_count": null,
   "metadata": {},
   "outputs": [],
   "source": [
    "model = keras.models.load_model('snapshots/0620_stronger_aug/resnet101_csv_25.h5', custom_objects=custom_objects)"
   ]
  },
  {
   "cell_type": "markdown",
   "metadata": {},
   "source": [
    "## Initialize data generators"
   ]
  },
  {
   "cell_type": "code",
   "execution_count": null,
   "metadata": {},
   "outputs": [],
   "source": [
    "# create image data generator object\n",
    "val_image_data_generator = keras.preprocessing.image.ImageDataGenerator()\n",
    "\n",
    "if DATA_TO_TEST == 'abn1':\n",
    "    csv_path = '/home/huray/data/NCC/img_retinanet/data_abn1.csv'\n",
    "elif DATA_TO_TEST == 'abn2':\n",
    "    csv_path = '/home/huray/data/NCC/img_retinanet/data_abn2.csv'\n",
    "elif DATA_TO_TEST == 'normal':\n",
    "    csv_path = 'data_normal_merged.csv'\n",
    "else:\n",
    "    print('WRONG DATA CSV PATH!')\n",
    "    raise\n",
    "\n",
    "# create a generator for testing data\n",
    "val_generator = CSVGenerator(\n",
    "    csv_path,\n",
    "    '/home/huray/data/NCC/img_retinanet/class_2_onlyM.csv',\n",
    "    val_image_data_generator,\n",
    "    batch_size=1\n",
    ")\n",
    "\n",
    "test_file_df = pd.read_csv(csv_path, header=None)\n",
    "num_of_test_files = len(test_file_df)\n",
    "print(num_of_test_files)"
   ]
  },
  {
   "cell_type": "markdown",
   "metadata": {},
   "source": [
    "## Run detection"
   ]
  },
  {
   "cell_type": "code",
   "execution_count": null,
   "metadata": {},
   "outputs": [],
   "source": [
    "img_index_list = list(range(0, num_of_test_files))\n",
    "img_index_list_temp = img_index_list.copy()\n",
    "print(len(img_index_list))"
   ]
  },
  {
   "cell_type": "code",
   "execution_count": null,
   "metadata": {},
   "outputs": [],
   "source": [
    "for index in img_index_list:\n",
    "    pass_this_file = False\n",
    "    \n",
    "    # load image\n",
    "    image, image_path = val_generator.load_image(index, get_image_path=True)\n",
    "    print(image_path)\n",
    "\n",
    "    # copy to draw on\n",
    "    draw = image.copy()\n",
    "    draw = cv2.cvtColor(draw, cv2.COLOR_BGR2RGB)\n",
    "\n",
    "    # preprocess image for network\n",
    "    image = val_generator.preprocess_image(image)\n",
    "    image, scale = val_generator.resize_image(image)\n",
    "    \n",
    "\n",
    "    # process image\n",
    "#     start = time.time()\n",
    "    _, _, detections = model.predict_on_batch(np.expand_dims(image, axis=0))\n",
    "#     print(\"processing time: \", time.time() - start)\n",
    "\n",
    "    # compute predicted labels and scores\n",
    "    #predicted_labels = np.argmax(detections[0, :, 4:], axis=1)\n",
    "    #scores = detections[0, np.arange(detections.shape[1]), 4 + predicted_labels]\n",
    "\n",
    "    # correct for image scale\n",
    "    detections[0, :, :4] /= scale\n",
    "      \n",
    "    # 이미지 하나에 annotation 여러개 있는 경우 있으므로 리스트로 저장해 둠.\n",
    "    x1_tmp = []\n",
    "    y1_tmp = []\n",
    "    x2_tmp = []\n",
    "    y2_tmp = []\n",
    "    cls_tmp = []\n",
    "    \n",
    "    # save detected object annotations\n",
    "    number_of_detected_annotation = 0\n",
    "    \n",
    "    #for idx, (label, score) in enumerate(zip(predicted_labels, scores)):\n",
    "    for idx in enumerate(detections) :\n",
    "    #    if score < SCORE_VALUE:\n",
    "    #        continue\n",
    "            \n",
    "        b = detections[0, idx, :4].astype(int)\n",
    "\n",
    "        x1_tmp.append(b[0])\n",
    "        y1_tmp.append(b[1])\n",
    "        x2_tmp.append(b[2])\n",
    "        y2_tmp.append(b[3])\n",
    "        cls_tmp.append('M')\n",
    "            \n",
    "        number_of_detected_annotation += 1\n",
    "    \n",
    "        #cv2.rectangle(draw, (b[0], b[1]), (b[2], b[3]), (0, 255, 0), 5)\n",
    "            \n",
    "    for i_index in range(number_of_detected_annotation):\n",
    "        mammo_jpg_path = os.path.join(result_save_path, image_path.split('/')[-1].split('.')[0]+'_'+str(i_index)+'.jpg')\n",
    "        #cv2.imwrite(os.path.join(result_save_path, image_path.split('/')[-1].split('.')[0]+'_'+str(i_index)+'.jpg'), draw)\n",
    "        cv2.imwrite(mammo_jpg_path, draw)\n",
    "        \n",
    "        normal_img_path.append(mammo_jpg_path)\n",
    "        normal_x1.append(x1_tmp[i_index])\n",
    "        normal_y1.append(y1_tmp[i_index])\n",
    "        normal_x2.append(x2_tmp[i_index])\n",
    "        normal_y2.append(y2_tmp[i_index])\n",
    "        normal_class_name.append(cls_tmp[i_index])"
   ]
  },
  {
   "cell_type": "code",
   "execution_count": null,
   "metadata": {},
   "outputs": [],
   "source": [
    "normal_data_df = pd.DataFrame({'img_path':normal_img_path, 'x1':normal_x1, 'y1':normal_y1, 'x2':normal_x2, 'y2':normal_y2, 'class_name':normal_class_name})\n",
    "normal_data_df = normal_data_df[['img_path', 'x1', 'y1', 'x2', 'y2', 'class_name']]"
   ]
  },
  {
   "cell_type": "code",
   "execution_count": null,
   "metadata": {},
   "outputs": [],
   "source": [
    "normal_data_df.to_csv('/home/huray/workspace/han_work/han_test/data_normal_annotation.csv', header=False, index=False)"
   ]
  },
  {
   "cell_type": "code",
   "execution_count": null,
   "metadata": {},
   "outputs": [],
   "source": [
    "print(\"DONE!\" + DATA_TO_TEST + MODEL_EPOCH)"
   ]
  }
 ],
 "metadata": {
  "kernelspec": {
   "display_name": "Python 3",
   "language": "python",
   "name": "python3"
  },
  "language_info": {
   "codemirror_mode": {
    "name": "ipython",
    "version": 3
   },
   "file_extension": ".py",
   "mimetype": "text/x-python",
   "name": "python",
   "nbconvert_exporter": "python",
   "pygments_lexer": "ipython3",
   "version": "3.5.2"
  }
 },
 "nbformat": 4,
 "nbformat_minor": 2
}
