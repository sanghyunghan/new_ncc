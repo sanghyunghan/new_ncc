{
 "cells": [
  {
   "cell_type": "code",
   "execution_count": null,
   "metadata": {},
   "outputs": [],
   "source": [
    "%matplotlib inline\n",
    "\n",
    "import pandas as pd\n",
    "import cv2\n",
    "import os\n",
    "from glob import glob\n",
    "import pydicom as dicom\n",
    "import numpy as np\n",
    "import shutil\n",
    "from matplotlib import pyplot as plt\n",
    "from keras_retinanet.preprocessing.dicom2jpg_generator import DICOM2JPG_Generator\n",
    "\n",
    "OS_ENV = 'LINUX' # 'LINUX' or 'WIN'\n",
    "\n",
    "WIDTH = 1400\n",
    "HEIGHT = 1750"
   ]
  },
  {
   "cell_type": "code",
   "execution_count": null,
   "metadata": {},
   "outputs": [],
   "source": [
    "if OS_ENV == 'LINUX':\n",
    "    data_base_path = \"/home/huray/data/NCC\"\n",
    "    _base_path = '/home/huray/workspace/han_work/han_test'\n",
    "else:\n",
    "    data_base_path = \"D:/Work/NCC/data/NCC\"\n",
    "    _base_path = 'D:/Work/NCC/han_test'\n",
    "    \n",
    "    \n",
    "dicom_base_path = os.path.join(data_base_path, \"dicom\")\n",
    "#jpg_base_path = dicom_base_path.replace('dicom', 'img_retinanet')\n",
    "jpg_base_path = os.path.join(_base_path, 'jpg_from_dicom')\n",
    "\n",
    "dicom_file_path = os.path.join(dicom_base_path, \"**/*.dcm\")\n",
    "jpg_sub_path = 'jpg'\n",
    "img_save_path = os.path.join(jpg_base_path, jpg_sub_path)\n",
    "\n",
    "if not os.path.exists(img_save_path):\n",
    "    os.makedirs(img_save_path)\n",
    "\n",
    "# create a dicom2jpg generator for testing data\n",
    "jpg_generator = DICOM2JPG_Generator(\n",
    "    dicom_file_path,\n",
    "    jpg_base_path,\n",
    "    img_save_path\n",
    ")"
   ]
  },
  {
   "cell_type": "code",
   "execution_count": null,
   "metadata": {},
   "outputs": [],
   "source": [
    "jpg_generator.All_dicom2jpg_file()"
   ]
  },
  {
   "cell_type": "code",
   "execution_count": null,
   "metadata": {},
   "outputs": [],
   "source": []
  }
 ],
 "metadata": {
  "kernelspec": {
   "display_name": "Python 3",
   "language": "python",
   "name": "python3"
  },
  "language_info": {
   "codemirror_mode": {
    "name": "ipython",
    "version": 3
   },
   "file_extension": ".py",
   "mimetype": "text/x-python",
   "name": "python",
   "nbconvert_exporter": "python",
   "pygments_lexer": "ipython3",
   "version": "3.5.2"
  }
 },
 "nbformat": 4,
 "nbformat_minor": 2
}
