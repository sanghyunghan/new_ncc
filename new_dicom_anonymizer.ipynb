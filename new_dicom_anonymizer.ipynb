{
 "cells": [
  {
   "cell_type": "code",
   "execution_count": null,
   "metadata": {},
   "outputs": [],
   "source": [
    "import os\n",
    "from glob import glob\n",
    "from shutil import copyfile\n",
    "import pydicom as dicom\n",
    "import numpy as np\n",
    "\n",
    "WORK_BASE_PATH = '/home/huray/data/test'\n",
    "_ORIGINAL_DIR = 'original'\n",
    "_TEMPORARY_DIR = 'temp'\n",
    "_ANONYMIZED_DIR = 'anonymized'"
   ]
  },
  {
   "cell_type": "code",
   "execution_count": null,
   "metadata": {},
   "outputs": [],
   "source": [
    "#원본 dicom 파일목록을 read\n",
    "#dicom_path = '/home/huray/workspace/rails/dicoms/20180130/origins_original'\n",
    "print(os.path.join(WORK_BASE_PATH, _ORIGINAL_DIR, '**/*.dcm'))\n",
    "orig_dicoms = glob(os.path.join(WORK_BASE_PATH, _ORIGINAL_DIR, '**/*.dcm'), recursive=True)\n",
    "num_orig_dicom_file = len(orig_dicoms)\n",
    "#print(orig_dicoms)"
   ]
  },
  {
   "cell_type": "code",
   "execution_count": null,
   "metadata": {},
   "outputs": [],
   "source": [
    "#익명화를 위해 원본 dicom file들을 임시 direcotory로 복사\n",
    "print('copy original dicom file to temporary folder.')\n",
    "for index, dcm in enumerate(orig_dicoms):\n",
    "    #원본 파일로 부터 file or folder name 등 변경해야 할 부분들을 set\n",
    "    dcm_original = dcm\n",
    "    #dcm = dcm.replace('N', '20180130')\n",
    "    #dcm = dcm.replace(' (', '_NORMAL_')\n",
    "    #dcm = dcm.replace(').', '.')\n",
    "    dcm = dcm.replace(_ORIGINAL_DIR, _TEMPORARY_DIR)\n",
    "\n",
    "    #print(dcm, dcm_original)\n",
    "    os.makedirs(os.path.dirname(dcm), exist_ok=True) #대상 폴더가 없으면 생성\n",
    "    copyfile(dcm_original, dcm)\n",
    "    print('{}/{} completed.\\r'.format(index+1, num_orig_dicom_file), end='')"
   ]
  },
  {
   "cell_type": "code",
   "execution_count": null,
   "metadata": {},
   "outputs": [],
   "source": [
    "#익명화 작업을 위햇 임시 directory로 복사된 dicom파일 목록을 read\n",
    "#dicom_path = '/home/huray/workspace/rails/dicoms/20180130/origins'\n",
    "#dicoms = glob(dicom_path + '**/*.dcm')\n",
    "print(os.path.join(WORK_BASE_PATH, _TEMPORARY_DIR, '**/*.dcm'))\n",
    "temp_dicoms = glob(os.path.join(WORK_BASE_PATH, _TEMPORARY_DIR, '**/*.dcm'), recursive=True)\n",
    "num_dest_dicom_file = len(temp_dicoms)\n",
    "print(temp_dicoms[:5])"
   ]
  },
  {
   "cell_type": "code",
   "execution_count": null,
   "metadata": {},
   "outputs": [],
   "source": [
    "#중요를 정보 익명화 하고, 완료된 파일을 별도의 directory(anonymized)에 저장\n",
    "print('***********************************')\n",
    "print('*      Data Anonymizing           *')\n",
    "print('***********************************')\n",
    "print('{} dicom files.'.format(num_dest_dicom_file))\n",
    "print(\"start.\")\n",
    "for index, dcm in enumerate(temp_dicoms):\n",
    "    #print(\"reading file:\", dcm)\n",
    "    df = dicom.read_file(dcm)\n",
    "\n",
    "    df[0x0008, 0x0020].value = \"UNKNOWN\" # study date\n",
    "    df[0x0008, 0x0023].value = \"UNKNOWN\" # content date\n",
    "    #df[0x0010, 0x0010].value = \"UNKNOWN\" # patient's name\n",
    "    df[0x0010, 0x0010].value = \"UNKNOWN\" # patient's name\n",
    "    df[0x0010, 0x0020].value = \"UNKNOWN\" # patient's ID\n",
    "    df[0x0010, 0x0030].value = \"UNKNOWN\" # patient's birth date\n",
    "    df[0x0010, 0x0040].value = \"UNKNOWN\" # patient's sex\n",
    "    df[0x0010, 0x1010].value = \"UNKNOWN\" # patient's age    \n",
    "\n",
    "    try:\n",
    "        df[0x0038, 0x0300].value = \"UNKNOWN\" # current patient location\n",
    "        df[0x0008, 0x1070].value = \"UNKNOWN\" # operator's name\n",
    "        df[0x0008, 0x0021].value = \"UNKNOWN\" # series date\n",
    "        df[0x0008, 0x0022].value = \"UNKNOWN\" # acquisition date\n",
    "        df[0x0008, 0x0080].value = \"UNKNOWN\" # institution name\n",
    "        df[0x0008, 0x0081].value = \"UNKNOWN\" # institution address\n",
    "    except:\n",
    "        pass\n",
    "\n",
    "    dcm = dcm.replace(_TEMPORARY_DIR, _ANONYMIZED_DIR)\n",
    "\n",
    "    #print(dcm)\n",
    "    os.makedirs(os.path.dirname(dcm), exist_ok=True)\n",
    "    df.save_as(dcm)\n",
    "    print('{}/{} completed.\\r'.format(index+1, num_dest_dicom_file), end='')"
   ]
  },
  {
   "cell_type": "code",
   "execution_count": null,
   "metadata": {},
   "outputs": [],
   "source": [
    "# DICOM FILE ERROR CHECKER\n",
    "#dicom_path = '/home/huray/workspace/rails/dicoms/20180130/anonymized'\n",
    "#dicoms = glob(dicom_path + '/*.dcm')\n",
    "print(os.path.join(WORK_BASE_PATH, _ANONYMIZED_DIR, '**/*.dcm'))\n",
    "anonymized_dicoms = glob(os.path.join(WORK_BASE_PATH, _ANONYMIZED_DIR, '**/*.dcm'), recursive=True)\n",
    "num_anonymized_dicom_file = len(anonymized_dicoms)\n",
    "print(anonymized_dicoms[:5])"
   ]
  },
  {
   "cell_type": "code",
   "execution_count": null,
   "metadata": {
    "scrolled": true
   },
   "outputs": [],
   "source": [
    "counter = 0\n",
    "errored_file = []\n",
    "print('***********************************')\n",
    "print('*      Check dicom file error     *')\n",
    "print('***********************************')\n",
    "print('{} dicom files.'.format(num_anonymized_dicom_file))\n",
    "print(\"start.\")\n",
    "for index, dcm_path in enumerate(anonymized_dicoms):\n",
    "    #print(dcm_path)\n",
    "    dcm = dicom.read_file(dcm_path)\n",
    "    try:\n",
    "        if np.amax(dcm.pixel_array) <= 256:\n",
    "            counter += 1\n",
    "    except:\n",
    "        errored_file.append(dcm_path)\n",
    "        continue\n",
    "        \n",
    "    print('{}/{} completed.\\r'.format(index+1, num_anonymized_dicom_file), end='')    \n",
    "        "
   ]
  },
  {
   "cell_type": "code",
   "execution_count": null,
   "metadata": {
    "scrolled": true
   },
   "outputs": [],
   "source": [
    "print(counter, len(errored_file))"
   ]
  },
  {
   "cell_type": "code",
   "execution_count": null,
   "metadata": {},
   "outputs": [],
   "source": []
  }
 ],
 "metadata": {
  "kernelspec": {
   "display_name": "Python 3",
   "language": "python",
   "name": "python3"
  },
  "language_info": {
   "codemirror_mode": {
    "name": "ipython",
    "version": 3
   },
   "file_extension": ".py",
   "mimetype": "text/x-python",
   "name": "python",
   "nbconvert_exporter": "python",
   "pygments_lexer": "ipython3",
   "version": "3.5.2"
  }
 },
 "nbformat": 4,
 "nbformat_minor": 2
}
