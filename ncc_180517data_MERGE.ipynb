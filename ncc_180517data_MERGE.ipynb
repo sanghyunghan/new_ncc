{
 "cells": [
  {
   "cell_type": "markdown",
   "metadata": {},
   "source": [
    "20180521에 작성하였음.\n",
    "## 기존에 사용중인 CBIS, NCC 1월 데이터, INbreast에 NCC 5월 데이터를 추가하는 스크립트."
   ]
  },
  {
   "cell_type": "code",
   "execution_count": 2,
   "metadata": {},
   "outputs": [],
   "source": [
    "import pandas as pd\n",
    "import numpy"
   ]
  },
  {
   "cell_type": "code",
   "execution_count": 3,
   "metadata": {},
   "outputs": [],
   "source": [
    "df_merged = pd.read_csv('/home/huray/data/retinanet_train_cbis_ncc-abn_inb-mass_allM.csv', header=None, dtype={'1': numpy.int32, '2': numpy.int32, '3': numpy.int32, '4': numpy.int32}, keep_default_na=False)\n",
    "df_ncc_0517 = pd.read_csv('/home/huray/data/NCC_trainset/img_retinanet/data_ncc_abn_180517.csv', header=None, dtype={'1': numpy.int32, '2': numpy.int32, '3': numpy.int32, '4': numpy.int32}, keep_default_na=False)"
   ]
  },
  {
   "cell_type": "code",
   "execution_count": 7,
   "metadata": {},
   "outputs": [
    {
     "data": {
      "text/plain": [
       "4312"
      ]
     },
     "execution_count": 7,
     "metadata": {},
     "output_type": "execute_result"
    }
   ],
   "source": [
    "len(df_merged)"
   ]
  },
  {
   "cell_type": "code",
   "execution_count": 12,
   "metadata": {},
   "outputs": [
    {
     "data": {
      "text/plain": [
       "905"
      ]
     },
     "execution_count": 12,
     "metadata": {},
     "output_type": "execute_result"
    }
   ],
   "source": [
    "len(df_ncc_0517)"
   ]
  },
  {
   "cell_type": "code",
   "execution_count": 8,
   "metadata": {},
   "outputs": [
    {
     "data": {
      "text/html": [
       "<div>\n",
       "<style scoped>\n",
       "    .dataframe tbody tr th:only-of-type {\n",
       "        vertical-align: middle;\n",
       "    }\n",
       "\n",
       "    .dataframe tbody tr th {\n",
       "        vertical-align: top;\n",
       "    }\n",
       "\n",
       "    .dataframe thead th {\n",
       "        text-align: right;\n",
       "    }\n",
       "</style>\n",
       "<table border=\"1\" class=\"dataframe\">\n",
       "  <thead>\n",
       "    <tr style=\"text-align: right;\">\n",
       "      <th></th>\n",
       "      <th>0</th>\n",
       "      <th>1</th>\n",
       "      <th>2</th>\n",
       "      <th>3</th>\n",
       "      <th>4</th>\n",
       "      <th>5</th>\n",
       "    </tr>\n",
       "  </thead>\n",
       "  <tbody>\n",
       "    <tr>\n",
       "      <th>0</th>\n",
       "      <td>/home/huray/data/CBIS-DDSM/img/calc_train/Calc...</td>\n",
       "      <td>803</td>\n",
       "      <td>924</td>\n",
       "      <td>1127</td>\n",
       "      <td>1114</td>\n",
       "      <td>M</td>\n",
       "    </tr>\n",
       "    <tr>\n",
       "      <th>1</th>\n",
       "      <td>/home/huray/data/CBIS-DDSM/img/calc_train/Calc...</td>\n",
       "      <td>760</td>\n",
       "      <td>1070</td>\n",
       "      <td>1077</td>\n",
       "      <td>1236</td>\n",
       "      <td>M</td>\n",
       "    </tr>\n",
       "    <tr>\n",
       "      <th>2</th>\n",
       "      <td>/home/huray/data/CBIS-DDSM/img/calc_train/Calc...</td>\n",
       "      <td>664</td>\n",
       "      <td>412</td>\n",
       "      <td>916</td>\n",
       "      <td>621</td>\n",
       "      <td>M</td>\n",
       "    </tr>\n",
       "    <tr>\n",
       "      <th>3</th>\n",
       "      <td>/home/huray/data/CBIS-DDSM/img/calc_train/Calc...</td>\n",
       "      <td>514</td>\n",
       "      <td>820</td>\n",
       "      <td>834</td>\n",
       "      <td>1027</td>\n",
       "      <td>M</td>\n",
       "    </tr>\n",
       "    <tr>\n",
       "      <th>4</th>\n",
       "      <td>/home/huray/data/CBIS-DDSM/img/calc_train/Calc...</td>\n",
       "      <td>716</td>\n",
       "      <td>729</td>\n",
       "      <td>779</td>\n",
       "      <td>776</td>\n",
       "      <td>M</td>\n",
       "    </tr>\n",
       "  </tbody>\n",
       "</table>\n",
       "</div>"
      ],
      "text/plain": [
       "                                                   0    1     2     3     4  5\n",
       "0  /home/huray/data/CBIS-DDSM/img/calc_train/Calc...  803   924  1127  1114  M\n",
       "1  /home/huray/data/CBIS-DDSM/img/calc_train/Calc...  760  1070  1077  1236  M\n",
       "2  /home/huray/data/CBIS-DDSM/img/calc_train/Calc...  664   412   916   621  M\n",
       "3  /home/huray/data/CBIS-DDSM/img/calc_train/Calc...  514   820   834  1027  M\n",
       "4  /home/huray/data/CBIS-DDSM/img/calc_train/Calc...  716   729   779   776  M"
      ]
     },
     "execution_count": 8,
     "metadata": {},
     "output_type": "execute_result"
    }
   ],
   "source": [
    "df_merged.head()"
   ]
  },
  {
   "cell_type": "code",
   "execution_count": 9,
   "metadata": {},
   "outputs": [
    {
     "data": {
      "text/html": [
       "<div>\n",
       "<style scoped>\n",
       "    .dataframe tbody tr th:only-of-type {\n",
       "        vertical-align: middle;\n",
       "    }\n",
       "\n",
       "    .dataframe tbody tr th {\n",
       "        vertical-align: top;\n",
       "    }\n",
       "\n",
       "    .dataframe thead th {\n",
       "        text-align: right;\n",
       "    }\n",
       "</style>\n",
       "<table border=\"1\" class=\"dataframe\">\n",
       "  <thead>\n",
       "    <tr style=\"text-align: right;\">\n",
       "      <th></th>\n",
       "      <th>0</th>\n",
       "      <th>1</th>\n",
       "      <th>2</th>\n",
       "      <th>3</th>\n",
       "      <th>4</th>\n",
       "      <th>5</th>\n",
       "    </tr>\n",
       "  </thead>\n",
       "  <tbody>\n",
       "    <tr>\n",
       "      <th>4307</th>\n",
       "      <td>/home/huray/data/inbreast/img/53586869.jpg</td>\n",
       "      <td>590</td>\n",
       "      <td>1290</td>\n",
       "      <td>659</td>\n",
       "      <td>1352</td>\n",
       "      <td>M</td>\n",
       "    </tr>\n",
       "    <tr>\n",
       "      <th>4308</th>\n",
       "      <td>/home/huray/data/inbreast/img/53586896.jpg</td>\n",
       "      <td>562</td>\n",
       "      <td>1119</td>\n",
       "      <td>643</td>\n",
       "      <td>1196</td>\n",
       "      <td>M</td>\n",
       "    </tr>\n",
       "    <tr>\n",
       "      <th>4309</th>\n",
       "      <td>/home/huray/data/inbreast/img/53586960.jpg</td>\n",
       "      <td>178</td>\n",
       "      <td>742</td>\n",
       "      <td>399</td>\n",
       "      <td>900</td>\n",
       "      <td>M</td>\n",
       "    </tr>\n",
       "    <tr>\n",
       "      <th>4310</th>\n",
       "      <td>/home/huray/data/inbreast/img/53587014.jpg</td>\n",
       "      <td>84</td>\n",
       "      <td>1046</td>\n",
       "      <td>308</td>\n",
       "      <td>1158</td>\n",
       "      <td>M</td>\n",
       "    </tr>\n",
       "    <tr>\n",
       "      <th>4311</th>\n",
       "      <td>/home/huray/data/inbreast/img/53587663.jpg</td>\n",
       "      <td>1332</td>\n",
       "      <td>868</td>\n",
       "      <td>1400</td>\n",
       "      <td>923</td>\n",
       "      <td>M</td>\n",
       "    </tr>\n",
       "  </tbody>\n",
       "</table>\n",
       "</div>"
      ],
      "text/plain": [
       "                                               0     1     2     3     4  5\n",
       "4307  /home/huray/data/inbreast/img/53586869.jpg   590  1290   659  1352  M\n",
       "4308  /home/huray/data/inbreast/img/53586896.jpg   562  1119   643  1196  M\n",
       "4309  /home/huray/data/inbreast/img/53586960.jpg   178   742   399   900  M\n",
       "4310  /home/huray/data/inbreast/img/53587014.jpg    84  1046   308  1158  M\n",
       "4311  /home/huray/data/inbreast/img/53587663.jpg  1332   868  1400   923  M"
      ]
     },
     "execution_count": 9,
     "metadata": {},
     "output_type": "execute_result"
    }
   ],
   "source": [
    "df_merged.tail()"
   ]
  },
  {
   "cell_type": "code",
   "execution_count": 10,
   "metadata": {},
   "outputs": [
    {
     "data": {
      "text/html": [
       "<div>\n",
       "<style scoped>\n",
       "    .dataframe tbody tr th:only-of-type {\n",
       "        vertical-align: middle;\n",
       "    }\n",
       "\n",
       "    .dataframe tbody tr th {\n",
       "        vertical-align: top;\n",
       "    }\n",
       "\n",
       "    .dataframe thead th {\n",
       "        text-align: right;\n",
       "    }\n",
       "</style>\n",
       "<table border=\"1\" class=\"dataframe\">\n",
       "  <thead>\n",
       "    <tr style=\"text-align: right;\">\n",
       "      <th></th>\n",
       "      <th>0</th>\n",
       "      <th>1</th>\n",
       "      <th>2</th>\n",
       "      <th>3</th>\n",
       "      <th>4</th>\n",
       "      <th>5</th>\n",
       "    </tr>\n",
       "  </thead>\n",
       "  <tbody>\n",
       "    <tr>\n",
       "      <th>0</th>\n",
       "      <td>/home/huray/data/NCC_trainset/img_retinanet/ab...</td>\n",
       "      <td></td>\n",
       "      <td></td>\n",
       "      <td></td>\n",
       "      <td></td>\n",
       "      <td></td>\n",
       "    </tr>\n",
       "    <tr>\n",
       "      <th>1</th>\n",
       "      <td>/home/huray/data/NCC_trainset/img_retinanet/ab...</td>\n",
       "      <td>307</td>\n",
       "      <td>1269</td>\n",
       "      <td>401</td>\n",
       "      <td>1365</td>\n",
       "      <td>M</td>\n",
       "    </tr>\n",
       "    <tr>\n",
       "      <th>2</th>\n",
       "      <td>/home/huray/data/NCC_trainset/img_retinanet/ab...</td>\n",
       "      <td>201</td>\n",
       "      <td>1074</td>\n",
       "      <td>260</td>\n",
       "      <td>1126</td>\n",
       "      <td>M</td>\n",
       "    </tr>\n",
       "    <tr>\n",
       "      <th>3</th>\n",
       "      <td>/home/huray/data/NCC_trainset/img_retinanet/ab...</td>\n",
       "      <td>629</td>\n",
       "      <td>949</td>\n",
       "      <td>702</td>\n",
       "      <td>1032</td>\n",
       "      <td>M</td>\n",
       "    </tr>\n",
       "    <tr>\n",
       "      <th>4</th>\n",
       "      <td>/home/huray/data/NCC_trainset/img_retinanet/ab...</td>\n",
       "      <td>652</td>\n",
       "      <td>846</td>\n",
       "      <td>737</td>\n",
       "      <td>923</td>\n",
       "      <td>M</td>\n",
       "    </tr>\n",
       "  </tbody>\n",
       "</table>\n",
       "</div>"
      ],
      "text/plain": [
       "                                                   0    1     2    3     4  5\n",
       "0  /home/huray/data/NCC_trainset/img_retinanet/ab...                         \n",
       "1  /home/huray/data/NCC_trainset/img_retinanet/ab...  307  1269  401  1365  M\n",
       "2  /home/huray/data/NCC_trainset/img_retinanet/ab...  201  1074  260  1126  M\n",
       "3  /home/huray/data/NCC_trainset/img_retinanet/ab...  629   949  702  1032  M\n",
       "4  /home/huray/data/NCC_trainset/img_retinanet/ab...  652   846  737   923  M"
      ]
     },
     "execution_count": 10,
     "metadata": {},
     "output_type": "execute_result"
    }
   ],
   "source": [
    "df_ncc_0517.head()"
   ]
  },
  {
   "cell_type": "code",
   "execution_count": 13,
   "metadata": {},
   "outputs": [],
   "source": [
    "df = pd.concat([df_merged, df_ncc_0517], ignore_index=True)"
   ]
  },
  {
   "cell_type": "code",
   "execution_count": 14,
   "metadata": {},
   "outputs": [
    {
     "data": {
      "text/html": [
       "<div>\n",
       "<style scoped>\n",
       "    .dataframe tbody tr th:only-of-type {\n",
       "        vertical-align: middle;\n",
       "    }\n",
       "\n",
       "    .dataframe tbody tr th {\n",
       "        vertical-align: top;\n",
       "    }\n",
       "\n",
       "    .dataframe thead th {\n",
       "        text-align: right;\n",
       "    }\n",
       "</style>\n",
       "<table border=\"1\" class=\"dataframe\">\n",
       "  <thead>\n",
       "    <tr style=\"text-align: right;\">\n",
       "      <th></th>\n",
       "      <th>0</th>\n",
       "      <th>1</th>\n",
       "      <th>2</th>\n",
       "      <th>3</th>\n",
       "      <th>4</th>\n",
       "      <th>5</th>\n",
       "    </tr>\n",
       "  </thead>\n",
       "  <tbody>\n",
       "    <tr>\n",
       "      <th>0</th>\n",
       "      <td>/home/huray/data/CBIS-DDSM/img/calc_train/Calc...</td>\n",
       "      <td>803</td>\n",
       "      <td>924</td>\n",
       "      <td>1127</td>\n",
       "      <td>1114</td>\n",
       "      <td>M</td>\n",
       "    </tr>\n",
       "    <tr>\n",
       "      <th>1</th>\n",
       "      <td>/home/huray/data/CBIS-DDSM/img/calc_train/Calc...</td>\n",
       "      <td>760</td>\n",
       "      <td>1070</td>\n",
       "      <td>1077</td>\n",
       "      <td>1236</td>\n",
       "      <td>M</td>\n",
       "    </tr>\n",
       "    <tr>\n",
       "      <th>2</th>\n",
       "      <td>/home/huray/data/CBIS-DDSM/img/calc_train/Calc...</td>\n",
       "      <td>664</td>\n",
       "      <td>412</td>\n",
       "      <td>916</td>\n",
       "      <td>621</td>\n",
       "      <td>M</td>\n",
       "    </tr>\n",
       "    <tr>\n",
       "      <th>3</th>\n",
       "      <td>/home/huray/data/CBIS-DDSM/img/calc_train/Calc...</td>\n",
       "      <td>514</td>\n",
       "      <td>820</td>\n",
       "      <td>834</td>\n",
       "      <td>1027</td>\n",
       "      <td>M</td>\n",
       "    </tr>\n",
       "    <tr>\n",
       "      <th>4</th>\n",
       "      <td>/home/huray/data/CBIS-DDSM/img/calc_train/Calc...</td>\n",
       "      <td>716</td>\n",
       "      <td>729</td>\n",
       "      <td>779</td>\n",
       "      <td>776</td>\n",
       "      <td>M</td>\n",
       "    </tr>\n",
       "  </tbody>\n",
       "</table>\n",
       "</div>"
      ],
      "text/plain": [
       "                                                   0    1     2     3     4  5\n",
       "0  /home/huray/data/CBIS-DDSM/img/calc_train/Calc...  803   924  1127  1114  M\n",
       "1  /home/huray/data/CBIS-DDSM/img/calc_train/Calc...  760  1070  1077  1236  M\n",
       "2  /home/huray/data/CBIS-DDSM/img/calc_train/Calc...  664   412   916   621  M\n",
       "3  /home/huray/data/CBIS-DDSM/img/calc_train/Calc...  514   820   834  1027  M\n",
       "4  /home/huray/data/CBIS-DDSM/img/calc_train/Calc...  716   729   779   776  M"
      ]
     },
     "execution_count": 14,
     "metadata": {},
     "output_type": "execute_result"
    }
   ],
   "source": [
    "df.head()"
   ]
  },
  {
   "cell_type": "code",
   "execution_count": 15,
   "metadata": {},
   "outputs": [
    {
     "data": {
      "text/html": [
       "<div>\n",
       "<style scoped>\n",
       "    .dataframe tbody tr th:only-of-type {\n",
       "        vertical-align: middle;\n",
       "    }\n",
       "\n",
       "    .dataframe tbody tr th {\n",
       "        vertical-align: top;\n",
       "    }\n",
       "\n",
       "    .dataframe thead th {\n",
       "        text-align: right;\n",
       "    }\n",
       "</style>\n",
       "<table border=\"1\" class=\"dataframe\">\n",
       "  <thead>\n",
       "    <tr style=\"text-align: right;\">\n",
       "      <th></th>\n",
       "      <th>0</th>\n",
       "      <th>1</th>\n",
       "      <th>2</th>\n",
       "      <th>3</th>\n",
       "      <th>4</th>\n",
       "      <th>5</th>\n",
       "    </tr>\n",
       "  </thead>\n",
       "  <tbody>\n",
       "    <tr>\n",
       "      <th>5212</th>\n",
       "      <td>/home/huray/data/NCC_trainset/img_retinanet/ab...</td>\n",
       "      <td>320</td>\n",
       "      <td>602</td>\n",
       "      <td>661</td>\n",
       "      <td>911</td>\n",
       "      <td>M</td>\n",
       "    </tr>\n",
       "    <tr>\n",
       "      <th>5213</th>\n",
       "      <td>/home/huray/data/NCC_trainset/img_retinanet/ab...</td>\n",
       "      <td>1202</td>\n",
       "      <td>371</td>\n",
       "      <td>1364</td>\n",
       "      <td>497</td>\n",
       "      <td>M</td>\n",
       "    </tr>\n",
       "    <tr>\n",
       "      <th>5214</th>\n",
       "      <td>/home/huray/data/NCC_trainset/img_retinanet/ab...</td>\n",
       "      <td>318</td>\n",
       "      <td>778</td>\n",
       "      <td>807</td>\n",
       "      <td>1093</td>\n",
       "      <td>M</td>\n",
       "    </tr>\n",
       "    <tr>\n",
       "      <th>5215</th>\n",
       "      <td>/home/huray/data/NCC_trainset/img_retinanet/ab...</td>\n",
       "      <td>1071</td>\n",
       "      <td>631</td>\n",
       "      <td>1255</td>\n",
       "      <td>820</td>\n",
       "      <td>M</td>\n",
       "    </tr>\n",
       "    <tr>\n",
       "      <th>5216</th>\n",
       "      <td>/home/huray/data/NCC_trainset/img_retinanet/ab...</td>\n",
       "      <td>467</td>\n",
       "      <td>944</td>\n",
       "      <td>852</td>\n",
       "      <td>1333</td>\n",
       "      <td>M</td>\n",
       "    </tr>\n",
       "  </tbody>\n",
       "</table>\n",
       "</div>"
      ],
      "text/plain": [
       "                                                      0     1    2     3  \\\n",
       "5212  /home/huray/data/NCC_trainset/img_retinanet/ab...   320  602   661   \n",
       "5213  /home/huray/data/NCC_trainset/img_retinanet/ab...  1202  371  1364   \n",
       "5214  /home/huray/data/NCC_trainset/img_retinanet/ab...   318  778   807   \n",
       "5215  /home/huray/data/NCC_trainset/img_retinanet/ab...  1071  631  1255   \n",
       "5216  /home/huray/data/NCC_trainset/img_retinanet/ab...   467  944   852   \n",
       "\n",
       "         4  5  \n",
       "5212   911  M  \n",
       "5213   497  M  \n",
       "5214  1093  M  \n",
       "5215   820  M  \n",
       "5216  1333  M  "
      ]
     },
     "execution_count": 15,
     "metadata": {},
     "output_type": "execute_result"
    }
   ],
   "source": [
    "df.tail()"
   ]
  },
  {
   "cell_type": "code",
   "execution_count": 17,
   "metadata": {},
   "outputs": [
    {
     "name": "stdout",
     "output_type": "stream",
     "text": [
      "4312 905\n",
      "5217\n"
     ]
    }
   ],
   "source": [
    "print(len(df_merged), len(df_ncc_0517))\n",
    "print(len(df))"
   ]
  },
  {
   "cell_type": "code",
   "execution_count": 22,
   "metadata": {},
   "outputs": [],
   "source": [
    "df.to_csv('/home/huray/data/retinanet_train_cbis_ncc-abn1801-1805_inb-mass_allM.csv', header=False, index=False)"
   ]
  },
  {
   "cell_type": "code",
   "execution_count": 23,
   "metadata": {},
   "outputs": [],
   "source": [
    "df2 = pd.read_csv('/home/huray/data/retinanet_train_cbis_ncc-abn1801-1805_inb-mass_allM.csv', header=None, dtype={'1': numpy.int32, '2': numpy.int32, '3': numpy.int32, '4': numpy.int32}, keep_default_na=False)"
   ]
  },
  {
   "cell_type": "code",
   "execution_count": 24,
   "metadata": {},
   "outputs": [
    {
     "data": {
      "text/html": [
       "<div>\n",
       "<style scoped>\n",
       "    .dataframe tbody tr th:only-of-type {\n",
       "        vertical-align: middle;\n",
       "    }\n",
       "\n",
       "    .dataframe tbody tr th {\n",
       "        vertical-align: top;\n",
       "    }\n",
       "\n",
       "    .dataframe thead th {\n",
       "        text-align: right;\n",
       "    }\n",
       "</style>\n",
       "<table border=\"1\" class=\"dataframe\">\n",
       "  <thead>\n",
       "    <tr style=\"text-align: right;\">\n",
       "      <th></th>\n",
       "      <th>0</th>\n",
       "      <th>1</th>\n",
       "      <th>2</th>\n",
       "      <th>3</th>\n",
       "      <th>4</th>\n",
       "      <th>5</th>\n",
       "    </tr>\n",
       "  </thead>\n",
       "  <tbody>\n",
       "    <tr>\n",
       "      <th>0</th>\n",
       "      <td>/home/huray/data/CBIS-DDSM/img/calc_train/Calc...</td>\n",
       "      <td>803</td>\n",
       "      <td>924</td>\n",
       "      <td>1127</td>\n",
       "      <td>1114</td>\n",
       "      <td>M</td>\n",
       "    </tr>\n",
       "    <tr>\n",
       "      <th>1</th>\n",
       "      <td>/home/huray/data/CBIS-DDSM/img/calc_train/Calc...</td>\n",
       "      <td>760</td>\n",
       "      <td>1070</td>\n",
       "      <td>1077</td>\n",
       "      <td>1236</td>\n",
       "      <td>M</td>\n",
       "    </tr>\n",
       "    <tr>\n",
       "      <th>2</th>\n",
       "      <td>/home/huray/data/CBIS-DDSM/img/calc_train/Calc...</td>\n",
       "      <td>664</td>\n",
       "      <td>412</td>\n",
       "      <td>916</td>\n",
       "      <td>621</td>\n",
       "      <td>M</td>\n",
       "    </tr>\n",
       "    <tr>\n",
       "      <th>3</th>\n",
       "      <td>/home/huray/data/CBIS-DDSM/img/calc_train/Calc...</td>\n",
       "      <td>514</td>\n",
       "      <td>820</td>\n",
       "      <td>834</td>\n",
       "      <td>1027</td>\n",
       "      <td>M</td>\n",
       "    </tr>\n",
       "    <tr>\n",
       "      <th>4</th>\n",
       "      <td>/home/huray/data/CBIS-DDSM/img/calc_train/Calc...</td>\n",
       "      <td>716</td>\n",
       "      <td>729</td>\n",
       "      <td>779</td>\n",
       "      <td>776</td>\n",
       "      <td>M</td>\n",
       "    </tr>\n",
       "  </tbody>\n",
       "</table>\n",
       "</div>"
      ],
      "text/plain": [
       "                                                   0    1     2     3     4  5\n",
       "0  /home/huray/data/CBIS-DDSM/img/calc_train/Calc...  803   924  1127  1114  M\n",
       "1  /home/huray/data/CBIS-DDSM/img/calc_train/Calc...  760  1070  1077  1236  M\n",
       "2  /home/huray/data/CBIS-DDSM/img/calc_train/Calc...  664   412   916   621  M\n",
       "3  /home/huray/data/CBIS-DDSM/img/calc_train/Calc...  514   820   834  1027  M\n",
       "4  /home/huray/data/CBIS-DDSM/img/calc_train/Calc...  716   729   779   776  M"
      ]
     },
     "execution_count": 24,
     "metadata": {},
     "output_type": "execute_result"
    }
   ],
   "source": [
    "df2.head()"
   ]
  },
  {
   "cell_type": "code",
   "execution_count": 25,
   "metadata": {},
   "outputs": [
    {
     "data": {
      "text/plain": [
       "5217"
      ]
     },
     "execution_count": 25,
     "metadata": {},
     "output_type": "execute_result"
    }
   ],
   "source": [
    "len(df2)"
   ]
  },
  {
   "cell_type": "code",
   "execution_count": null,
   "metadata": {},
   "outputs": [],
   "source": []
  }
 ],
 "metadata": {
  "kernelspec": {
   "display_name": "Python 3",
   "language": "python",
   "name": "python3"
  },
  "language_info": {
   "codemirror_mode": {
    "name": "ipython",
    "version": 3
   },
   "file_extension": ".py",
   "mimetype": "text/x-python",
   "name": "python",
   "nbconvert_exporter": "python",
   "pygments_lexer": "ipython3",
   "version": "3.5.2"
  }
 },
 "nbformat": 4,
 "nbformat_minor": 2
}
