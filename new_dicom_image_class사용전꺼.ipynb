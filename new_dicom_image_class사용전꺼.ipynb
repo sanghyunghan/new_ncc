{
 "cells": [
  {
   "cell_type": "code",
   "execution_count": 1,
   "metadata": {},
   "outputs": [],
   "source": [
    "%matplotlib inline\n",
    "\n",
    "import pandas as pd\n",
    "import cv2\n",
    "import os\n",
    "from glob import glob\n",
    "import pydicom as dicom\n",
    "import numpy as np\n",
    "import shutil\n",
    "from matplotlib import pyplot as plt\n",
    "\n",
    "OS_ENV = 'LINUX' # 'LINUX' or 'WIN'\n",
    "\n",
    "WIDTH = 1400\n",
    "HEIGHT = 1750"
   ]
  },
  {
   "cell_type": "code",
   "execution_count": 2,
   "metadata": {},
   "outputs": [
    {
     "name": "stdout",
     "output_type": "stream",
     "text": [
      "['/home/huray/data/NCC/dicom/abn_1/_ACD_/00000/0001.dcm', '/home/huray/data/NCC/dicom/abn_1/_ACD_/00000/0002.dcm', '/home/huray/data/NCC/dicom/abn_1/_ACD_/00000/0003.dcm', '/home/huray/data/NCC/dicom/abn_1/_ACD_/00000/0004.dcm', '/home/huray/data/NCC/dicom/abn_1/_ACD_/00001/0001.dcm']\n"
     ]
    }
   ],
   "source": [
    "if OS_ENV == 'LINUX':\n",
    "    _base_path = \"/home/huray/data/NCC\"\n",
    "else:\n",
    "    _base_path = \"D:/Work/NCC/data/NCC\"\n",
    "    \n",
    "dicom_base_path = os.path.join(_base_path, \"dicom\")\n",
    "jpg_base_path = dicom_base_path.replace('dicom', 'img_retinanet')\n",
    "\n",
    "dcmtojpg_img_path = []\n",
    "errored_data_counter = 0\n",
    "files_with_wrong_size = []\n",
    "\n",
    "jpg_sub_path = 'dicom_to_jpg'\n",
    "img_save_path = os.path.join(jpg_base_path, jpg_sub_path)\n",
    "\n",
    "if not os.path.exists(img_save_path):\n",
    "    os.makedirs(img_save_path)\n",
    "\n",
    "files = sorted(glob(dicom_base_path+\"/**/*.dcm\", recursive=True))\n",
    "print(files[:5])"
   ]
  },
  {
   "cell_type": "code",
   "execution_count": 3,
   "metadata": {},
   "outputs": [],
   "source": [
    "def dicom2jpg(f_path):\n",
    "    mammo_dcm = dicom.read_file(f_path)\n",
    "\n",
    "    if os.path.getsize(mammo_path)/(1024*1024) <= 1: # dcm파일이 1메가보다 작으면 pass\n",
    "        files_with_wrong_size.append(mammo_path)\n",
    "        print('DCM file is too small ' + mammo_path)\n",
    "        return []\n",
    "\n",
    "    try:\n",
    "        mammo_arr = mammo_dcm.pixel_array\n",
    "        mammo_arr = mammo_arr.astype(np.uint16)\n",
    "    except AttributeError: # 종종 파일 자체가 문제가 있는 경우 있음.\n",
    "        try:\n",
    "            pixel_data = mammo_dcm[0x7fe0,0x0010].value # 파일 자체에 저장된 pixel_data값\n",
    "            rows = mammo_dcm[0x0028, 0x0010].value # metadata로 들어있는 row\n",
    "            cols = mammo_dcm[0x0028, 0x0011].value # metadata로 들어있는col\n",
    "\n",
    "            mammo_arr = np.fromstring(pixel_data[:-1], dtype=np.uint16)\n",
    "            mammo_arr = np.reshape(mammo_arr, (rows, cols))\n",
    "        except ValueError:\n",
    "            print('corrupted file: ' + mammo_path[:70])\n",
    "            errored_data_counter += 1\n",
    "            return []\n",
    "        else:\n",
    "            print('Attribute error\" ' + mammo_path[:70])\n",
    "    except Exception as e:\n",
    "        print('different error: ' + mammo_path[:70])\n",
    "        print(e)\n",
    "        errored_data_counter += 1\n",
    "        raise\n",
    "        return []\n",
    "\n",
    "    mammo_arr_final_ = (mammo_arr - np.amin(mammo_arr))/(np.amax(mammo_arr) - np.amin(mammo_arr)) * 255\n",
    "    mammo_arr_final_ = mammo_arr_final_.astype(np.uint8)\n",
    "    mammo_arr_final_ = cv2.resize(mammo_arr_final_, (WIDTH, HEIGHT))\n",
    "    mammo_arr_final_ = np.asarray(np.dstack((mammo_arr_final_, mammo_arr_final_, mammo_arr_final_)), dtype=np.uint8)\n",
    "\n",
    "    return mammo_arr_final_"
   ]
  },
  {
   "cell_type": "code",
   "execution_count": 4,
   "metadata": {},
   "outputs": [
    {
     "name": "stdout",
     "output_type": "stream",
     "text": [
      "DCM file is too small /home/huray/data/NCC/dicom/normal/normal/00027/30001.dcm\n",
      "DCM file is too small /home/huray/data/NCC/dicom/normal/normal/00027/30002.dcm\n",
      "DCM file is too small /home/huray/data/NCC/dicom/normal/normal/00027/30003.dcm\n",
      "DCM file is too small /home/huray/data/NCC/dicom/normal/normal/00027/30004.dcm\n",
      "DCM file is too small /home/huray/data/NCC/dicom/normal/normal/00033/20001.dcm\n",
      "DCM file is too small /home/huray/data/NCC/dicom/normal/normal/00033/20002.dcm\n",
      "DCM file is too small /home/huray/data/NCC/dicom/normal/normal/00033/20003.dcm\n",
      "DCM file is too small /home/huray/data/NCC/dicom/normal/normal/00033/20004.dcm\n",
      "DCM file is too small /home/huray/data/NCC/dicom/normal/normal/00059/10001.dcm\n",
      "DCM file is too small /home/huray/data/NCC/dicom/normal/normal/00059/10002.dcm\n",
      "DCM file is too small /home/huray/data/NCC/dicom/normal/normal/00059/10003.dcm\n",
      "DCM file is too small /home/huray/data/NCC/dicom/normal/normal/00059/10004.dcm\n",
      "DCM file is too small /home/huray/data/NCC/dicom/normal/normal/00065/20001.dcm\n",
      "DCM file is too small /home/huray/data/NCC/dicom/normal/normal/00065/20002.dcm\n",
      "DCM file is too small /home/huray/data/NCC/dicom/normal/normal/00065/20003.dcm\n",
      "DCM file is too small /home/huray/data/NCC/dicom/normal/normal/00065/20004.dcm\n",
      "ERRORED DATA COUNT:  0\n",
      "FILES WITH WRONG SIZE COUNT:  16\n",
      "FILES WITH WRONG SIZE:  ['/home/huray/data/NCC/dicom/normal/normal/00027/30001.dcm', '/home/huray/data/NCC/dicom/normal/normal/00027/30002.dcm', '/home/huray/data/NCC/dicom/normal/normal/00027/30003.dcm', '/home/huray/data/NCC/dicom/normal/normal/00027/30004.dcm', '/home/huray/data/NCC/dicom/normal/normal/00033/20001.dcm', '/home/huray/data/NCC/dicom/normal/normal/00033/20002.dcm', '/home/huray/data/NCC/dicom/normal/normal/00033/20003.dcm', '/home/huray/data/NCC/dicom/normal/normal/00033/20004.dcm', '/home/huray/data/NCC/dicom/normal/normal/00059/10001.dcm', '/home/huray/data/NCC/dicom/normal/normal/00059/10002.dcm', '/home/huray/data/NCC/dicom/normal/normal/00059/10003.dcm', '/home/huray/data/NCC/dicom/normal/normal/00059/10004.dcm', '/home/huray/data/NCC/dicom/normal/normal/00065/20001.dcm', '/home/huray/data/NCC/dicom/normal/normal/00065/20002.dcm', '/home/huray/data/NCC/dicom/normal/normal/00065/20003.dcm', '/home/huray/data/NCC/dicom/normal/normal/00065/20004.dcm']\n",
      "DATA COUNTS:  793\n"
     ]
    }
   ],
   "source": [
    "for mammo_path in files:\n",
    "    \n",
    "    mammo_arr_final = dicom2jpg(mammo_path)\n",
    "    \n",
    "    if len(mammo_arr_final) <= 0:\n",
    "        continue\n",
    "\n",
    "    prefix_fname = ''\n",
    "    if 'abn_1' in mammo_path:\n",
    "        prefix_fname = 'abn1'\n",
    "    elif 'abn_2' in mammo_path:\n",
    "        prefix_fname = 'abn2'\n",
    "    elif 'normal' in mammo_path:\n",
    "        prefix_fname = ''\n",
    "    else:\n",
    "        raise\n",
    "        \n",
    "        \n",
    "    _split = mammo_path.split('/')\n",
    "    img_file_name = '{}-{}-{}'.format(_split[-3], _split[-2], _split[-1].replace('.dcm', ''))\n",
    "\n",
    "    mammo_jpg_path = os.path.join(img_save_path, prefix_fname+img_file_name+'.jpg')\n",
    "    cv2.imwrite(mammo_jpg_path, mammo_arr_final)\n",
    "\n",
    "    dcmtojpg_img_path.append(mammo_jpg_path)\n",
    "            \n",
    "print(\"ERRORED DATA COUNT: \", errored_data_counter)\n",
    "print(\"FILES WITH WRONG SIZE COUNT: \", len(files_with_wrong_size))\n",
    "print(\"FILES WITH WRONG SIZE: \", files_with_wrong_size)\n",
    "\n",
    "_data_df = pd.DataFrame({'img_path':dcmtojpg_img_path, 'x1':'', 'y1':'', 'x2':'', 'y2':'', 'class_name':''})\n",
    "_data_df = _data_df[['img_path', 'x1', 'y1', 'x2', 'y2', 'class_name']]\n",
    "\n",
    "print('DATA COUNTS: ', len(_data_df))\n",
    "\n",
    "_data_df.to_csv(jpg_base_path+'/dicom2jpg_data.csv', header=False, index=False)"
   ]
  },
  {
   "cell_type": "code",
   "execution_count": null,
   "metadata": {},
   "outputs": [],
   "source": []
  }
 ],
 "metadata": {
  "kernelspec": {
   "display_name": "Python 3",
   "language": "python",
   "name": "python3"
  },
  "language_info": {
   "codemirror_mode": {
    "name": "ipython",
    "version": 3
   },
   "file_extension": ".py",
   "mimetype": "text/x-python",
   "name": "python",
   "nbconvert_exporter": "python",
   "pygments_lexer": "ipython3",
   "version": "3.5.2"
  }
 },
 "nbformat": 4,
 "nbformat_minor": 2
}
