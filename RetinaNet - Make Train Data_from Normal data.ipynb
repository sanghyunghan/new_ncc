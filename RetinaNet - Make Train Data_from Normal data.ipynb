{
 "cells": [
  {
   "cell_type": "code",
   "execution_count": 1,
   "metadata": {},
   "outputs": [],
   "source": [
    "DATE = \"0823_stronger_aug\"\n",
    "DATA_TYPE = 'new_normal' # 'abn1' or 'abn2' or 'normal'\n",
    "MODEL_EPOCH = '_25ep' ###### 아래 스냅샷 파일과 일치하는지 반드시 확인!!!!!!! ######\n",
    "\n",
    "SCORE_VALUE = 0.072\n",
    "#PRINT_BENIGN_DETECTION = False\n",
    "\n",
    "import os\n",
    "import pandas as pd\n",
    "\n",
    "result_save_base_path = '/home/huray/workspace/han_work/han_test/results/'\n",
    "#result_save_path = os.path.join(result_save_base_path, DATE, DATA_TO_TEST + MODEL_EPOCH)\n",
    "result_save_path = os.path.join(result_save_base_path, DATE + MODEL_EPOCH, DATA_TYPE)\n",
    "if not os.path.exists(result_save_path):\n",
    "    os.makedirs(result_save_path)"
   ]
  },
  {
   "cell_type": "code",
   "execution_count": 2,
   "metadata": {},
   "outputs": [
    {
     "name": "stderr",
     "output_type": "stream",
     "text": [
      "/home/huray/venvs/ml/lib/python3.5/site-packages/h5py/__init__.py:36: FutureWarning: Conversion of the second argument of issubdtype from `float` to `np.floating` is deprecated. In future, it will be treated as `np.float64 == np.dtype(float).type`.\n",
      "  from ._conv import register_converters as _register_converters\n",
      "Using TensorFlow backend.\n"
     ]
    }
   ],
   "source": [
    "%matplotlib inline\n",
    "%load_ext autoreload\n",
    "%autoreload 2\n",
    "\n",
    "import keras\n",
    "import keras.preprocessing.image\n",
    "from keras_retinanet.models.resnet import custom_objects\n",
    "# from keras_retinanet.preprocessing.coco import CocoGenerator\n",
    "from keras_retinanet.preprocessing.csv_generator import CSVGenerator\n",
    "\n",
    "import matplotlib.pyplot as plt\n",
    "import cv2\n",
    "\n",
    "import numpy as np\n",
    "import time\n",
    "\n",
    "import tensorflow as tf\n",
    "\n",
    "def get_session():\n",
    "    config = tf.ConfigProto()\n",
    "    config.gpu_options.allow_growth = True\n",
    "    return tf.Session(config=config)\n",
    "\n",
    "normal_img_path = []\n",
    "normal_x1 = []\n",
    "normal_y1 = []\n",
    "normal_x2 = []\n",
    "normal_y2 = []\n",
    "normal_class_name = []\n",
    "\n",
    "# os.environ[\"CUDA_VISIBLE_DEVICES\"] = \"0\"\n",
    "keras.backend.tensorflow_backend.set_session(get_session())"
   ]
  },
  {
   "cell_type": "markdown",
   "metadata": {},
   "source": [
    "## Load RetinaNet model"
   ]
  },
  {
   "cell_type": "code",
   "execution_count": 3,
   "metadata": {},
   "outputs": [
    {
     "name": "stderr",
     "output_type": "stream",
     "text": [
      "/home/huray/venvs/ml/lib/python3.5/site-packages/keras/models.py:274: UserWarning: Output \"nms\" missing from loss dictionary. We assume this was done on purpose, and we will not be expecting any data to be passed to \"nms\" during training.\n",
      "  sample_weight_mode=sample_weight_mode)\n"
     ]
    }
   ],
   "source": [
    "model = keras.models.load_model('snapshots/0620_stronger_aug/resnet101_csv_25.h5', custom_objects=custom_objects)"
   ]
  },
  {
   "cell_type": "markdown",
   "metadata": {},
   "source": [
    "## Initialize data generators"
   ]
  },
  {
   "cell_type": "code",
   "execution_count": 4,
   "metadata": {},
   "outputs": [
    {
     "name": "stdout",
     "output_type": "stream",
     "text": [
      "1671\n"
     ]
    }
   ],
   "source": [
    "# create image data generator object\n",
    "val_image_data_generator = keras.preprocessing.image.ImageDataGenerator()\n",
    "\n",
    "if DATA_TYPE == 'abn1':\n",
    "    csv_path = '/home/huray/data/NCC/img_retinanet/data_abn1.csv'\n",
    "elif DATA_TYPE == 'abn2':\n",
    "    csv_path = '/home/huray/data/NCC/img_retinanet/data_abn2.csv'\n",
    "elif DATA_TYPE == 'new_normal':\n",
    "    csv_path = '/home/huray/workspace/han_work/han_test/data_normal_merged.csv'\n",
    "else:\n",
    "    print('WRONG DATA CSV PATH!')\n",
    "    raise\n",
    "\n",
    "# create a generator for testing data\n",
    "val_generator = CSVGenerator(\n",
    "    csv_path,\n",
    "    '/home/huray/data/NCC/img_retinanet/class_2_onlyM.csv',\n",
    "    val_image_data_generator,\n",
    "    batch_size=1,\n",
    "    is_testing=True,\n",
    ")\n",
    "\n",
    "test_file_df = pd.read_csv(csv_path, header=None)\n",
    "num_of_test_files = len(test_file_df)\n",
    "print(num_of_test_files)"
   ]
  },
  {
   "cell_type": "markdown",
   "metadata": {},
   "source": [
    "## Run detection"
   ]
  },
  {
   "cell_type": "code",
   "execution_count": 5,
   "metadata": {},
   "outputs": [
    {
     "name": "stdout",
     "output_type": "stream",
     "text": [
      "1671\n"
     ]
    }
   ],
   "source": [
    "img_index_list = list(range(0, num_of_test_files))\n",
    "img_index_list_temp = img_index_list.copy()\n",
    "print(len(img_index_list))"
   ]
  },
  {
   "cell_type": "code",
   "execution_count": 6,
   "metadata": {
    "scrolled": true
   },
   "outputs": [
    {
     "name": "stdout",
     "output_type": "stream",
     "text": [
      "Make normal training data with annotation from normal dicom file.\n",
      "Start!\n",
      "Processing.....wait......\n",
      "End.\n",
      "total detected annotation number : 4364\n",
      "Process Runtime : 11.05 Minutes\n"
     ]
    }
   ],
   "source": [
    "print(\"Make normal training data with annotation from normal dicom file.\")\n",
    "print(\"Start!\")\n",
    "print(\"Processing.....wait......\")\n",
    "# process time\n",
    "start = time.time()\n",
    "\n",
    "total_number_of_detected_annotation = 0\n",
    "for index in img_index_list:\n",
    "    pass_this_file = False\n",
    "    \n",
    "    # load image\n",
    "    image, image_path = val_generator.load_image(index, get_image_path=True)\n",
    "    #print(image_path)\n",
    "\n",
    "    # copy to draw on\n",
    "    draw = image.copy()\n",
    "    draw = cv2.cvtColor(draw, cv2.COLOR_BGR2RGB)\n",
    "\n",
    "    # preprocess image for network\n",
    "    image = val_generator.preprocess_image(image)\n",
    "    image, scale = val_generator.resize_image(image)\n",
    "    \n",
    "    _, _, detections = model.predict_on_batch(np.expand_dims(image, axis=0))\n",
    "\n",
    "    # compute predicted labels and scores\n",
    "    predicted_labels = np.argmax(detections[0, :, 4:], axis=1)\n",
    "    scores = detections[0, np.arange(detections.shape[1]), 4 + predicted_labels]\n",
    "\n",
    "    # correct for image scale\n",
    "    detections[0, :, :4] /= scale\n",
    "      \n",
    "    # 이미지 하나에 annotation 여러개 있는 경우 있으므로 리스트로 저장해 둠.\n",
    "    x1_tmp = []\n",
    "    y1_tmp = []\n",
    "    x2_tmp = []\n",
    "    y2_tmp = []\n",
    "    cls_tmp = []\n",
    "    \n",
    "    # save detected object annotations\n",
    "    number_of_detected_annotation = 0\n",
    "\n",
    "    for idx, (label, score) in enumerate(zip(predicted_labels, scores)):\n",
    "        if score < SCORE_VALUE:\n",
    "           continue\n",
    "\n",
    "        b = detections[0, idx, :4].astype(int)\n",
    "\n",
    "        # 검출된 좌표가 minus인 경우 0으로 변경\n",
    "        b[b<0] = 0\n",
    "        \n",
    "        x1_tmp.append(b[0])\n",
    "        y1_tmp.append(b[1])\n",
    "        x2_tmp.append(b[2])\n",
    "        y2_tmp.append(b[3])\n",
    "        cls_tmp.append('N')\n",
    "\n",
    "        number_of_detected_annotation += 1\n",
    "    \n",
    "        # 이미지에 detect된 innotation 표시\n",
    "        #cv2.rectangle(draw, (b[0], b[1]), (b[2], b[3]), (0, 255, 0), 5)\n",
    "\n",
    "    for i_index in range(number_of_detected_annotation):\n",
    "        result_image_path = os.path.join(result_save_path, image_path.split('/')[-1].split('.')[0]+'_'+str(i_index)+'.jpg')\n",
    "        cv2.imwrite(result_image_path, draw)\n",
    "        \n",
    "        #print(\"image:%s\" % result_image_path)\n",
    "        #print(\"annotations:%d,%d,%d,%d\" %(x1_tmp[i_index],y1_tmp[i_index],x2_tmp[i_index],y2_tmp[i_index]))\n",
    "\n",
    "        normal_img_path.append(result_image_path)\n",
    "        normal_x1.append(x1_tmp[i_index])\n",
    "        normal_y1.append(y1_tmp[i_index])\n",
    "        normal_x2.append(x2_tmp[i_index])\n",
    "        normal_y2.append(y2_tmp[i_index])\n",
    "        normal_class_name.append(cls_tmp[i_index])\n",
    "\n",
    "    total_number_of_detected_annotation += number_of_detected_annotation        \n",
    "\n",
    "print(\"End.\")    \n",
    "    \n",
    "print(\"total detected annotation number : %d\" % total_number_of_detected_annotation)\n",
    "print(\"Process Runtime : %0.2f Minutes\"%((time.time() - start)/60))"
   ]
  },
  {
   "cell_type": "markdown",
   "metadata": {},
   "source": [
    "## Create CSV"
   ]
  },
  {
   "cell_type": "code",
   "execution_count": 7,
   "metadata": {},
   "outputs": [],
   "source": [
    "normal_data_df = pd.DataFrame({'img_path':normal_img_path, 'x1':normal_x1, 'y1':normal_y1, 'x2':normal_x2, 'y2':normal_y2, 'class_name':normal_class_name})\n",
    "normal_data_df = normal_data_df[['img_path', 'x1', 'y1', 'x2', 'y2', 'class_name']]"
   ]
  },
  {
   "cell_type": "code",
   "execution_count": 8,
   "metadata": {},
   "outputs": [],
   "source": [
    "normal_data_df.to_csv('/home/huray/workspace/han_work/han_test/data_normal_annotation.csv', header=False, index=False)"
   ]
  },
  {
   "cell_type": "code",
   "execution_count": 9,
   "metadata": {},
   "outputs": [
    {
     "name": "stdout",
     "output_type": "stream",
     "text": [
      "DONE!\n"
     ]
    }
   ],
   "source": [
    "print(\"DONE!\")"
   ]
  },
  {
   "cell_type": "code",
   "execution_count": null,
   "metadata": {},
   "outputs": [],
   "source": []
  }
 ],
 "metadata": {
  "kernelspec": {
   "display_name": "Python 3",
   "language": "python",
   "name": "python3"
  },
  "language_info": {
   "codemirror_mode": {
    "name": "ipython",
    "version": 3
   },
   "file_extension": ".py",
   "mimetype": "text/x-python",
   "name": "python",
   "nbconvert_exporter": "python",
   "pygments_lexer": "ipython3",
   "version": "3.5.2"
  }
 },
 "nbformat": 4,
 "nbformat_minor": 2
}
